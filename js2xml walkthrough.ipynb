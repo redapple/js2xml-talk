{
 "cells": [
  {
   "cell_type": "markdown",
   "metadata": {
    "slideshow": {
     "slide_type": "slide"
    }
   },
   "source": [
    "# js2xml -  Scraping JavaScript code with XPath"
   ]
  },
  {
   "cell_type": "markdown",
   "metadata": {
    "slideshow": {
     "slide_type": "slide"
    }
   },
   "source": [
    "## Some JavaScript code from a real webpage"
   ]
  },
  {
   "cell_type": "code",
   "execution_count": 1,
   "metadata": {
    "collapsed": false,
    "scrolled": true,
    "slideshow": {
     "slide_type": "-"
    }
   },
   "outputs": [],
   "source": [
    "# taken from http://shopmarkethq.com/collections/accessories-shades/products/last-chance-black\n",
    "markethq = ur'''\n",
    "<script type=\"text/javascript\">\n",
    "  $(function() { \n",
    "    $product = $('#product-' + 3727646661);\n",
    "    new Shopify.OptionSelectors(\"product-select-3727646661\", { product: {\"id\":3727646661,\"title\":\"Last Chance - Black\",\"handle\":\"last-chance-black\",\"description\":\"\\u003cspan\\u003e- Acrylic lenses \\u003c\\/span\\u003e\\u003cbr\\u003e\\u003cspan\\u003e- Lightweight and impact resistant lenses \\u003c\\/span\\u003e\\u003cbr\\u003e\\u003cspan\\u003e- Large, oversized circular shape \\u003c\\/span\\u003e\",\"published_at\":\"2016-02-10T13:53:00+11:00\",\"created_at\":\"2016-02-10T13:53:46+11:00\",\"vendor\":\"MINKPINK SUNGLASSES\",\"type\":\"ACCESSORIES\",\"tags\":[],\"price\":4900,\"price_min\":4900,\"price_max\":4900,\"available\":true,\"price_varies\":false,\"compare_at_price\":null,\"compare_at_price_min\":0,\"compare_at_price_max\":0,\"compare_at_price_varies\":false,\"variants\":[{\"id\":10967944453,\"title\":\"BLACK \\/ ONE SIZE\",\"option1\":\"BLACK\",\"option2\":\"ONE SIZE\",\"option3\":null,\"sku\":\"MNP1608012.BLK\",\"requires_shipping\":true,\"taxable\":true,\"featured_image\":null,\"available\":true,\"options\":[\"BLACK\",\"ONE SIZE\"],\"price\":4900,\"weight\":0,\"compare_at_price\":null,\"inventory_quantity\":2,\"inventory_management\":\"shopify\",\"inventory_policy\":\"deny\",\"barcode\":null}],\"images\":[\"\\/\\/cdn.shopify.com\\/s\\/files\\/1\\/0053\\/6742\\/products\\/10.jpg?v=1455075040\",\"\\/\\/cdn.shopify.com\\/s\\/files\\/1\\/0053\\/6742\\/products\\/9.jpg?v=1455075040\"],\"featured_image\":\"\\/\\/cdn.shopify.com\\/s\\/files\\/1\\/0053\\/6742\\/products\\/10.jpg?v=1455075040\",\"options\":[\"COLOUR\",\"SIZE\"],\"content\":\"\\u003cspan\\u003e- Acrylic lenses \\u003c\\/span\\u003e\\u003cbr\\u003e\\u003cspan\\u003e- Lightweight and impact resistant lenses \\u003c\\/span\\u003e\\u003cbr\\u003e\\u003cspan\\u003e- Large, oversized circular shape \\u003c\\/span\\u003e\"}, onVariantSelected:\n",
    "    selectCallback, enableHistoryState: true });\n",
    "\n",
    "    \n",
    "    jQuery('.swatch :radio').change(function() {\n",
    "      var optionIndex = jQuery(this).parents('.swatch').attr('data-option-index');\n",
    "      var optionValue = jQuery(this).val();\n",
    "      jQuery('#product-3727646661 .single-option-selector').eq(optionIndex).find('option').filter(function() { return jQuery(this).text() == optionValue }).parent().val(optionValue).trigger('change');\t   \n",
    "     }); \n",
    "     \n",
    "      \n",
    "        $('.single-option-selector').selecter();  \n",
    "  \n",
    "      \n",
    "       \n",
    "   });       \n",
    "</script>\n",
    "'''"
   ]
  },
  {
   "cell_type": "code",
   "execution_count": 2,
   "metadata": {
    "collapsed": false,
    "slideshow": {
     "slide_type": "slide"
    }
   },
   "outputs": [
    {
     "data": {
      "text/html": [
       "\n",
       "        <iframe\n",
       "            width=\"100%\"\n",
       "            height=\"350\"\n",
       "            src=\"http://shopmarkethq.com/collections/accessories-shades/products/last-chance-black\"\n",
       "            frameborder=\"0\"\n",
       "            allowfullscreen\n",
       "        ></iframe>\n",
       "        "
      ],
      "text/plain": [
       "<IPython.lib.display.IFrame at 0x7f47315d7550>"
      ]
     },
     "execution_count": 2,
     "metadata": {},
     "output_type": "execute_result"
    }
   ],
   "source": [
    "from IPython.display import IFrame\n",
    "IFrame('http://shopmarkethq.com/collections/accessories-shades/products/last-chance-black', width='100%', height=350)"
   ]
  },
  {
   "cell_type": "markdown",
   "metadata": {
    "slideshow": {
     "slide_type": "slide"
    }
   },
   "source": [
    "You feed the HTML into a Parsel selector"
   ]
  },
  {
   "cell_type": "code",
   "execution_count": 5,
   "metadata": {
    "collapsed": false,
    "scrolled": true,
    "slideshow": {
     "slide_type": "-"
    }
   },
   "outputs": [],
   "source": [
    "import parsel "
   ]
  },
  {
   "cell_type": "code",
   "execution_count": 6,
   "metadata": {
    "collapsed": false,
    "slideshow": {
     "slide_type": "-"
    }
   },
   "outputs": [
    {
     "name": "stdout",
     "output_type": "stream",
     "text": [
      "\n",
      "  $(function() { \n",
      "    $product = $('#product-' + 3727646661);\n",
      "    new Shopify.OptionSelectors(\"product-select-3727646661\", { product: {\"id\":3727646661,\"title\":\"Last Chance - Black\",\"handle\":\"last-cha...\n"
     ]
    }
   ],
   "source": [
    "selector = parsel.Selector(text=markethq, type=\"html\")\n",
    "\n",
    "# get the text node for that <script> element\n",
    "jssnippet = selector.xpath('string(//script/text())').extract_first()\n",
    "\n",
    "# printing just some characters to check\n",
    "print(jssnippet[:200] + '...')"
   ]
  },
  {
   "cell_type": "markdown",
   "metadata": {
    "slideshow": {
     "slide_type": "slide"
    }
   },
   "source": [
    "You build a nice custom regular expression to get what's after \"product:\""
   ]
  },
  {
   "cell_type": "code",
   "execution_count": 7,
   "metadata": {
    "collapsed": false,
    "scrolled": true,
    "slideshow": {
     "slide_type": "-"
    }
   },
   "outputs": [],
   "source": [
    "import re\n",
    "\n",
    "regex = re.compile(\n",
    "    r'''\n",
    "    \"product-select-\\d+\",\\s+\n",
    "    {\n",
    "        \\s+product:\\s(?P<json>.+),\\s+\n",
    "        onVariantSelected:\\s+selectCallback\n",
    "    ''', re.M|re.X)\n",
    "m = regex.search(jssnippet)"
   ]
  },
  {
   "cell_type": "code",
   "execution_count": null,
   "metadata": {
    "collapsed": false,
    "scrolled": true,
    "slideshow": {
     "slide_type": "subslide"
    }
   },
   "outputs": [],
   "source": [
    "m.group('json')"
   ]
  },
  {
   "cell_type": "markdown",
   "metadata": {
    "slideshow": {
     "slide_type": "slide"
    }
   },
   "source": [
    "You decode it with the `json` package"
   ]
  },
  {
   "cell_type": "code",
   "execution_count": 8,
   "metadata": {
    "collapsed": false,
    "scrolled": false,
    "slideshow": {
     "slide_type": "-"
    }
   },
   "outputs": [
    {
     "data": {
      "text/plain": [
       "{u'available': True,\n",
       " u'compare_at_price': None,\n",
       " u'compare_at_price_max': 0,\n",
       " u'compare_at_price_min': 0,\n",
       " u'compare_at_price_varies': False,\n",
       " u'content': u'<span>- Acrylic lenses </span><br><span>- Lightweight and impact resistant lenses </span><br><span>- Large, oversized circular shape </span>',\n",
       " u'created_at': u'2016-02-10T13:53:46+11:00',\n",
       " u'description': u'<span>- Acrylic lenses </span><br><span>- Lightweight and impact resistant lenses </span><br><span>- Large, oversized circular shape </span>',\n",
       " u'featured_image': u'//cdn.shopify.com/s/files/1/0053/6742/products/10.jpg?v=1455075040',\n",
       " u'handle': u'last-chance-black',\n",
       " u'id': 3727646661,\n",
       " u'images': [u'//cdn.shopify.com/s/files/1/0053/6742/products/10.jpg?v=1455075040',\n",
       "  u'//cdn.shopify.com/s/files/1/0053/6742/products/9.jpg?v=1455075040'],\n",
       " u'options': [u'COLOUR', u'SIZE'],\n",
       " u'price': 4900,\n",
       " u'price_max': 4900,\n",
       " u'price_min': 4900,\n",
       " u'price_varies': False,\n",
       " u'published_at': u'2016-02-10T13:53:00+11:00',\n",
       " u'tags': [],\n",
       " u'title': u'Last Chance - Black',\n",
       " u'type': u'ACCESSORIES',\n",
       " u'variants': [{u'available': True,\n",
       "   u'barcode': None,\n",
       "   u'compare_at_price': None,\n",
       "   u'featured_image': None,\n",
       "   u'id': 10967944453,\n",
       "   u'inventory_management': u'shopify',\n",
       "   u'inventory_policy': u'deny',\n",
       "   u'inventory_quantity': 2,\n",
       "   u'option1': u'BLACK',\n",
       "   u'option2': u'ONE SIZE',\n",
       "   u'option3': None,\n",
       "   u'options': [u'BLACK', u'ONE SIZE'],\n",
       "   u'price': 4900,\n",
       "   u'requires_shipping': True,\n",
       "   u'sku': u'MNP1608012.BLK',\n",
       "   u'taxable': True,\n",
       "   u'title': u'BLACK / ONE SIZE',\n",
       "   u'weight': 0}],\n",
       " u'vendor': u'MINKPINK SUNGLASSES'}"
      ]
     },
     "execution_count": 8,
     "metadata": {},
     "output_type": "execute_result"
    }
   ],
   "source": [
    "import json\n",
    "\n",
    "json.loads(m.group('json'))"
   ]
  },
  {
   "cell_type": "markdown",
   "metadata": {
    "slideshow": {
     "slide_type": "slide"
    }
   },
   "source": [
    "> \"There must be a better way!\"\n",
    "\n",
    "― Raymond Hettinger"
   ]
  },
  {
   "cell_type": "markdown",
   "metadata": {
    "slideshow": {
     "slide_type": "slide"
    }
   },
   "source": [
    "# Introducing js2xml"
   ]
  },
  {
   "cell_type": "code",
   "execution_count": 9,
   "metadata": {
    "collapsed": false,
    "scrolled": true,
    "slideshow": {
     "slide_type": "slide"
    }
   },
   "outputs": [],
   "source": [
    "import js2xml"
   ]
  },
  {
   "cell_type": "code",
   "execution_count": 10,
   "metadata": {
    "collapsed": true,
    "scrolled": true,
    "slideshow": {
     "slide_type": "-"
    }
   },
   "outputs": [],
   "source": [
    "jscode = r\"\"\"\n",
    "function factorial(n) {\n",
    "     if (n === 0) {\n",
    "         return 1;\n",
    "     }\n",
    "     return n * factorial(n - 1);\n",
    "}\"\"\""
   ]
  },
  {
   "cell_type": "code",
   "execution_count": 12,
   "metadata": {
    "collapsed": false,
    "scrolled": true,
    "slideshow": {
     "slide_type": "fragment"
    }
   },
   "outputs": [
    {
     "data": {
      "text/plain": [
       "<Element program at 0x7f47195ca998>"
      ]
     },
     "execution_count": 12,
     "metadata": {},
     "output_type": "execute_result"
    }
   ],
   "source": [
    "js2xml.parse(jscode)"
   ]
  },
  {
   "cell_type": "code",
   "execution_count": 13,
   "metadata": {
    "collapsed": false,
    "slideshow": {
     "slide_type": "fragment"
    }
   },
   "outputs": [
    {
     "data": {
      "text/plain": [
       "lxml.etree._Element"
      ]
     },
     "execution_count": 13,
     "metadata": {},
     "output_type": "execute_result"
    }
   ],
   "source": [
    "type(js2xml.parse(jscode))  "
   ]
  },
  {
   "cell_type": "code",
   "execution_count": 14,
   "metadata": {
    "collapsed": false,
    "scrolled": true,
    "slideshow": {
     "slide_type": "slide"
    }
   },
   "outputs": [
    {
     "name": "stdout",
     "output_type": "stream",
     "text": [
      "<program>\n",
      "  <funcdecl name=\"factorial\">\n",
      "    <parameters>\n",
      "      <identifier name=\"n\"/>\n",
      "    </parameters>\n",
      "    <body>\n",
      "      <if>\n",
      "        <predicate>\n",
      "          <binaryoperation operation=\"===\">\n",
      "            <left>\n",
      "              <identifier name=\"n\"/>\n",
      "            </left>\n",
      "            <right>\n",
      "              <number value=\"0\"/>\n",
      "            </right>\n",
      "          </binaryoperation>\n",
      "        </predicate>\n",
      "        <then>\n",
      "          <block>\n",
      "            <return>\n",
      "              <number value=\"1\"/>\n",
      "            </return>\n",
      "          </block>\n",
      "        </then>\n",
      "      </if>\n",
      "      <return>\n",
      "        <binaryoperation operation=\"*\">\n",
      "          <left>\n",
      "            <identifier name=\"n\"/>\n",
      "          </left>\n",
      "          <right>\n",
      "            <functioncall>\n",
      "              <function>\n",
      "                <identifier name=\"factorial\"/>\n",
      "              </function>\n",
      "              <arguments>\n",
      "                <binaryoperation operation=\"-\">\n",
      "                  <left>\n",
      "                    <identifier name=\"n\"/>\n",
      "                  </left>\n",
      "                  <right>\n",
      "                    <number value=\"1\"/>\n",
      "                  </right>\n",
      "                </binaryoperation>\n",
      "              </arguments>\n",
      "            </functioncall>\n",
      "          </right>\n",
      "        </binaryoperation>\n",
      "      </return>\n",
      "    </body>\n",
      "  </funcdecl>\n",
      "</program>\n",
      "\n"
     ]
    }
   ],
   "source": [
    "# you get a <program> tree\n",
    "print(\n",
    "        js2xml.pretty_print(\n",
    "            js2xml.parse(jscode)\n",
    "        )\n",
    ")"
   ]
  },
  {
   "cell_type": "markdown",
   "metadata": {
    "slideshow": {
     "slide_type": "slide"
    }
   },
   "source": [
    "## Another look at the JavaScript snippet we saw before"
   ]
  },
  {
   "cell_type": "code",
   "execution_count": 15,
   "metadata": {
    "collapsed": false,
    "scrolled": true,
    "slideshow": {
     "slide_type": "-"
    }
   },
   "outputs": [
    {
     "name": "stdout",
     "output_type": "stream",
     "text": [
      "\n",
      "  $(function() { \n",
      "    $product = $('#product-' + 3727646661);\n",
      "    new Shopify.OptionSelectors(\"product-select-3727646661\", { product: {\"id\":3727646661,\"title\":\"Last Chance - Black\",\"handle\":\"last-chance-black\",\"description\":\"<span>- Acrylic lenses <\\/span><br><span>- Lightweight and impact resistant lenses <\\/span><br><span>- Large, oversized circular shape <\\/span>\",\"published_at\":\"2016-02-10T13:53:00+11:00\",\"created_at\":\"2016-02-10T13:53:46+11:00\",\"vendor\":\"MINKPINK SUNGLASSES\",\"type\":\"ACCESSORIES\",\"tags\":[],\"price\":4900,\"price_min\":4900,\"price_max\":4900,\"available\":true,\"price_varies\":false,\"compare_at_price\":null,\"compare_at_price_min\":0,\"compare_at_price_max\":0,\"compare_at_price_varies\":false,\"variants\":[{\"id\":10967944453,\"title\":\"BLACK \\/ ONE SIZE\",\"option1\":\"BLACK\",\"option2\":\"ONE SIZE\",\"option3\":null,\"sku\":\"MNP1608012.BLK\",\"requires_shipping\":true,\"taxable\":true,\"featured_image\":null,\"available\":true,\"options\":[\"BLACK\",\"ONE SIZE\"],\"price\":4900,\"weight\":0,\"compare_at_price\":null,\"inventory_quantity\":2,\"inventory_management\":\"shopify\",\"inventory_policy\":\"deny\",\"barcode\":null}],\"images\":[\"\\/\\/cdn.shopify.com\\/s\\/files\\/1\\/0053\\/6742\\/products\\/10.jpg?v=1455075040\",\"\\/\\/cdn.shopify.com\\/s\\/files\\/1\\/0053\\/6742\\/products\\/9.jpg?v=1455075040\"],\"featured_image\":\"\\/\\/cdn.shopify.com\\/s\\/files\\/1\\/0053\\/6742\\/products\\/10.jpg?v=1455075040\",\"options\":[\"COLOUR\",\"SIZE\"],\"content\":\"<span>- Acrylic lenses <\\/span><br><span>- Lightweight and impact resistant lenses <\\/span><br><span>- Large, oversized circular shape <\\/span>\"}, onVariantSelected:\n",
      "    selectCallback, enableHistoryState: true });\n",
      "\n",
      "    \n",
      "    jQuery('.swatch :radio').change(function() {\n",
      "      var optionIndex = jQuery(this).parents('.swatch').attr('data-option-index');\n",
      "      var optionValue = jQuery(this).val();\n",
      "      jQuery('#product-3727646661 .single-option-selector').eq(optionIndex).find('option').filter(function() { return jQuery(this).text() == optionValue }).parent().val(optionValue).trigger('change');\t   \n",
      "     }); \n",
      "     \n",
      "      \n",
      "        $('.single-option-selector').selecter();  \n",
      "  \n",
      "      \n",
      "       \n",
      "   });       \n",
      "\n"
     ]
    }
   ],
   "source": [
    "print(jssnippet)"
   ]
  },
  {
   "cell_type": "code",
   "execution_count": 16,
   "metadata": {
    "collapsed": false,
    "scrolled": true,
    "slideshow": {
     "slide_type": "slide"
    }
   },
   "outputs": [],
   "source": [
    "import js2xml\n",
    "\n",
    "jstree = js2xml.parse(jssnippet)"
   ]
  },
  {
   "cell_type": "code",
   "execution_count": 17,
   "metadata": {
    "collapsed": false,
    "scrolled": true,
    "slideshow": {
     "slide_type": "fragment"
    }
   },
   "outputs": [],
   "source": [
    "# the \"magical\" getall()\n",
    "data = js2xml.jsonlike.getall(jstree)"
   ]
  },
  {
   "cell_type": "code",
   "execution_count": 18,
   "metadata": {
    "collapsed": false,
    "scrolled": true,
    "slideshow": {
     "slide_type": "fragment"
    }
   },
   "outputs": [
    {
     "data": {
      "text/plain": [
       "[{'enableHistoryState': True,\n",
       "  'onVariantSelected': 'selectCallback',\n",
       "  'product': {'available': True,\n",
       "   'compare_at_price': None,\n",
       "   'compare_at_price_max': 0,\n",
       "   'compare_at_price_min': 0,\n",
       "   'compare_at_price_varies': False,\n",
       "   'content': '<span>- Acrylic lenses </span><br><span>- Lightweight and impact resistant lenses </span><br><span>- Large, oversized circular shape </span>',\n",
       "   'created_at': '2016-02-10T13:53:46+11:00',\n",
       "   'description': '<span>- Acrylic lenses </span><br><span>- Lightweight and impact resistant lenses </span><br><span>- Large, oversized circular shape </span>',\n",
       "   'featured_image': '//cdn.shopify.com/s/files/1/0053/6742/products/10.jpg?v=1455075040',\n",
       "   'handle': 'last-chance-black',\n",
       "   'id': 3727646661,\n",
       "   'images': ['//cdn.shopify.com/s/files/1/0053/6742/products/10.jpg?v=1455075040',\n",
       "    '//cdn.shopify.com/s/files/1/0053/6742/products/9.jpg?v=1455075040'],\n",
       "   'options': ['COLOUR', 'SIZE'],\n",
       "   'price': 4900,\n",
       "   'price_max': 4900,\n",
       "   'price_min': 4900,\n",
       "   'price_varies': False,\n",
       "   'published_at': '2016-02-10T13:53:00+11:00',\n",
       "   'tags': [],\n",
       "   'title': 'Last Chance - Black',\n",
       "   'type': 'ACCESSORIES',\n",
       "   'variants': [{'available': True,\n",
       "     'barcode': None,\n",
       "     'compare_at_price': None,\n",
       "     'featured_image': None,\n",
       "     'id': 10967944453,\n",
       "     'inventory_management': 'shopify',\n",
       "     'inventory_policy': 'deny',\n",
       "     'inventory_quantity': 2,\n",
       "     'option1': 'BLACK',\n",
       "     'option2': 'ONE SIZE',\n",
       "     'option3': None,\n",
       "     'options': ['BLACK', 'ONE SIZE'],\n",
       "     'price': 4900,\n",
       "     'requires_shipping': True,\n",
       "     'sku': 'MNP1608012.BLK',\n",
       "     'taxable': True,\n",
       "     'title': 'BLACK / ONE SIZE',\n",
       "     'weight': 0}],\n",
       "   'vendor': 'MINKPINK SUNGLASSES'}}]"
      ]
     },
     "execution_count": 18,
     "metadata": {},
     "output_type": "execute_result"
    }
   ],
   "source": [
    "data"
   ]
  },
  {
   "cell_type": "markdown",
   "metadata": {
    "slideshow": {
     "slide_type": "slide"
    }
   },
   "source": [
    "Did we get the same data?"
   ]
  },
  {
   "cell_type": "code",
   "execution_count": 19,
   "metadata": {
    "collapsed": false,
    "scrolled": true,
    "slideshow": {
     "slide_type": "-"
    }
   },
   "outputs": [
    {
     "data": {
      "text/plain": [
       "True"
      ]
     },
     "execution_count": 19,
     "metadata": {},
     "output_type": "execute_result"
    }
   ],
   "source": [
    "data[0]['product'] == json.loads(m.group('json'))"
   ]
  },
  {
   "cell_type": "markdown",
   "metadata": {
    "slideshow": {
     "slide_type": "slide"
    }
   },
   "source": [
    "Getting arguments for a contructor"
   ]
  },
  {
   "cell_type": "code",
   "execution_count": 20,
   "metadata": {
    "collapsed": false,
    "slideshow": {
     "slide_type": "-"
    }
   },
   "outputs": [
    {
     "name": "stdout",
     "output_type": "stream",
     "text": [
      "<program>\n",
      "  <functioncall>\n",
      "    <function>\n",
      "      <identifier name=\"$\"/>\n",
      "    </function>\n",
      "    <arguments>\n",
      "      <funcexpr>\n",
      "        <identifier/>\n",
      "        <parameters/>\n",
      "        <body>\n",
      "          <assign operator=\"=\">\n",
      "            <left>\n",
      "              <identifier name=\"$product\"/>\n",
      "            </left>\n",
      "            <right>\n",
      "              <functioncall>\n",
      "                <function>\n",
      "                  <identifier name=\"$\"/>\n",
      "                </function>\n",
      "                <arguments>\n",
      "                  <binaryoperation operation=\"+\">\n",
      "                    <left>\n",
      "                      <string>#product-</string>\n",
      "                    </left>\n",
      "                    <right>\n",
      "                      <number value=\"3727646661\"/>\n",
      "                    </right>\n",
      "                  </binaryoperation>\n",
      "                </arguments>\n",
      "              </functioncall>\n",
      "            </right>\n",
      "          </assign>\n",
      "          <new>\n",
      "            <dotaccessor>\n",
      "              <object>\n",
      "                <identifier name=\"Shopify\"/>\n",
      "              </object>\n",
      "              <property>\n",
      "                <identifier name=\"OptionSelectors\"/>\n",
      "              </property>\n",
      "            </dotaccessor>\n",
      "            <arguments>\n",
      "              <string>product-select-3727646661</string>\n",
      "              <object>\n",
      "                <property name=\"product\">\n",
      "                  <object>\n",
      "                    <property name=\"id\">\n",
      "                      <number value=\"3727646661\"/>\n",
      "                    </property>\n",
      "                    <property name=\"title\">\n",
      "                      <string>Last Chance - Black</string>\n",
      "                    </property>\n",
      "                    <property name=\"handle\">\n",
      "                      <string>last-chance-black</string>\n",
      "                    </property>\n",
      "                    <property name=\"description\">\n",
      "                      <string>&lt;span&gt;- Acrylic lenses &lt;/span&gt;&lt;br&gt;&lt;span&gt;- Lightweight and impact resistant lenses &lt;/span&gt;&lt;br&gt;&lt;span&gt;- Large, oversized circular shape &lt;/span&gt;</string>\n",
      "                    </property>\n",
      "                    <property name=\"published_at\">\n",
      "                      <string>2016-02-10T13:53:00+11:00</string>\n",
      "                    </property>\n",
      "                    <property name=\"created_at\">\n",
      "                      <string>2016-02-10T13:53:46+11:00</string>\n",
      "                    </property>\n",
      "                    <property name=\"vendor\">\n",
      "                      <string>MINKPINK SUNGLASSES</string>\n",
      "                    </property>\n",
      "                    <property name=\"type\">\n",
      "                      <string>ACCESSORIES</string>\n",
      "                    </property>\n",
      "                    <property name=\"tags\">\n",
      "                      <array/>\n",
      "                    </property>\n",
      "                    <property name=\"price\">\n",
      "                      <number value=\"4900\"/>\n",
      "                    </property>\n",
      "                    <property name=\"price_min\">\n",
      "                      <number value=\"4900\"/>\n",
      "                    </property>\n",
      "                    <property name=\"price_max\">\n",
      "                      <number value=\"4900\"/>\n",
      "                    </property>\n",
      "                    <property name=\"available\">\n",
      "                      <boolean>true</boolean>\n",
      "                    </property>\n",
      "                    <property name=\"price_varies\">\n",
      "                      <boolean>false</boolean>\n",
      "                    </property>\n",
      "                    <property name=\"compare_at_price\">\n",
      "                      <null/>\n",
      "                    </property>\n",
      "                    <property name=\"compare_at_price_min\">\n",
      "                      <number value=\"0\"/>\n",
      "                    </property>\n",
      "                    <property name=\"compare_at_price_max\">\n",
      "                      <number value=\"0\"/>\n",
      "                    </property>\n",
      "                    <property name=\"compare_at_price_varies\">\n",
      "                      <boolean>false</boolean>\n",
      "                    </property>\n",
      "                    <property name=\"variants\">\n",
      "                      <array>\n",
      "                        <object>\n",
      "                          <property name=\"id\">\n",
      "                            <number value=\"10967944453\"/>\n",
      "                          </property>\n",
      "                          <property name=\"title\">\n",
      "                            <string>BLACK / ONE SIZE</string>\n",
      "                          </property>\n",
      "                          <property name=\"option1\">\n",
      "                            <string>BLACK</string>\n",
      "                          </property>\n",
      "                          <property name=\"option2\">\n",
      "                            <string>ONE SIZE</string>\n",
      "                          </property>\n",
      "                          <property name=\"option3\">\n",
      "                            <null/>\n",
      "                          </property>\n",
      "                          <property name=\"sku\">\n",
      "                            <string>MNP1608012.BLK</string>\n",
      "                          </property>\n",
      "                          <property name=\"requires_shipping\">\n",
      "                            <boolean>true</boolean>\n",
      "                          </property>\n",
      "                          <property name=\"taxable\">\n",
      "                            <boolean>true</boolean>\n",
      "                          </property>\n",
      "                          <property name=\"featured_image\">\n",
      "                            <null/>\n",
      "                          </property>\n",
      "                          <property name=\"available\">\n",
      "                            <boolean>true</boolean>\n",
      "                          </property>\n",
      "                          <property name=\"options\">\n",
      "                            <array>\n",
      "                              <string>BLACK</string>\n",
      "                              <string>ONE SIZE</string>\n",
      "                            </array>\n",
      "                          </property>\n",
      "                          <property name=\"price\">\n",
      "                            <number value=\"4900\"/>\n",
      "                          </property>\n",
      "                          <property name=\"weight\">\n",
      "                            <number value=\"0\"/>\n",
      "                          </property>\n",
      "                          <property name=\"compare_at_price\">\n",
      "                            <null/>\n",
      "                          </property>\n",
      "                          <property name=\"inventory_quantity\">\n",
      "                            <number value=\"2\"/>\n",
      "                          </property>\n",
      "                          <property name=\"inventory_management\">\n",
      "                            <string>shopify</string>\n",
      "                          </property>\n",
      "                          <property name=\"inventory_policy\">\n",
      "                            <string>deny</string>\n",
      "                          </property>\n",
      "                          <property name=\"barcode\">\n",
      "                            <null/>\n",
      "                          </property>\n",
      "                        </object>\n",
      "                      </array>\n",
      "                    </property>\n",
      "                    <property name=\"images\">\n",
      "                      <array>\n",
      "                        <string>//cdn.shopify.com/s/files/1/0053/6742/products/10.jpg?v=1455075040</string>\n",
      "                        <string>//cdn.shopify.com/s/files/1/0053/6742/products/9.jpg?v=1455075040</string>\n",
      "                      </array>\n",
      "                    </property>\n",
      "                    <property name=\"featured_image\">\n",
      "                      <string>//cdn.shopify.com/s/files/1/0053/6742/products/10.jpg?v=1455075040</string>\n",
      "                    </property>\n",
      "                    <property name=\"options\">\n",
      "                      <array>\n",
      "                        <string>COLOUR</string>\n",
      "                        <string>SIZE</string>\n",
      "                      </array>\n",
      "                    </property>\n",
      "                    <property name=\"content\">\n",
      "                      <string>&lt;span&gt;- Acrylic lenses &lt;/span&gt;&lt;br&gt;&lt;span&gt;- Lightweight and impact resistant lenses &lt;/span&gt;&lt;br&gt;&lt;span&gt;- Large, oversized circular shape &lt;/span&gt;</string>\n",
      "                    </property>\n",
      "                  </object>\n",
      "                </property>\n",
      "                <property name=\"onVariantSelected\">\n",
      "                  <identifier name=\"selectCallback\"/>\n",
      "                </property>\n",
      "                <property name=\"enableHistoryState\">\n",
      "                  <boolean>true</boolean>\n",
      "                </property>\n",
      "              </object>\n",
      "            </arguments>\n",
      "          </new>\n",
      "          <functioncall>\n",
      "            <function>\n",
      "              <dotaccessor>\n",
      "                <object>\n",
      "                  <functioncall>\n",
      "                    <function>\n",
      "                      <identifier name=\"jQuery\"/>\n",
      "                    </function>\n",
      "                    <arguments>\n",
      "                      <string>.swatch :radio</string>\n",
      "                    </arguments>\n",
      "                  </functioncall>\n",
      "                </object>\n",
      "                <property>\n",
      "                  <identifier name=\"change\"/>\n",
      "                </property>\n",
      "              </dotaccessor>\n",
      "            </function>\n",
      "            <arguments>\n",
      "              <funcexpr>\n",
      "                <identifier/>\n",
      "                <parameters/>\n",
      "                <body>\n",
      "                  <var name=\"optionIndex\">\n",
      "                    <functioncall>\n",
      "                      <function>\n",
      "                        <dotaccessor>\n",
      "                          <object>\n",
      "                            <functioncall>\n",
      "                              <function>\n",
      "                                <dotaccessor>\n",
      "                                  <object>\n",
      "                                    <functioncall>\n",
      "                                      <function>\n",
      "                                        <identifier name=\"jQuery\"/>\n",
      "                                      </function>\n",
      "                                      <arguments>\n",
      "                                        <identifier>this</identifier>\n",
      "                                      </arguments>\n",
      "                                    </functioncall>\n",
      "                                  </object>\n",
      "                                  <property>\n",
      "                                    <identifier name=\"parents\"/>\n",
      "                                  </property>\n",
      "                                </dotaccessor>\n",
      "                              </function>\n",
      "                              <arguments>\n",
      "                                <string>.swatch</string>\n",
      "                              </arguments>\n",
      "                            </functioncall>\n",
      "                          </object>\n",
      "                          <property>\n",
      "                            <identifier name=\"attr\"/>\n",
      "                          </property>\n",
      "                        </dotaccessor>\n",
      "                      </function>\n",
      "                      <arguments>\n",
      "                        <string>data-option-index</string>\n",
      "                      </arguments>\n",
      "                    </functioncall>\n",
      "                  </var>\n",
      "                  <var name=\"optionValue\">\n",
      "                    <functioncall>\n",
      "                      <function>\n",
      "                        <dotaccessor>\n",
      "                          <object>\n",
      "                            <functioncall>\n",
      "                              <function>\n",
      "                                <identifier name=\"jQuery\"/>\n",
      "                              </function>\n",
      "                              <arguments>\n",
      "                                <identifier>this</identifier>\n",
      "                              </arguments>\n",
      "                            </functioncall>\n",
      "                          </object>\n",
      "                          <property>\n",
      "                            <identifier name=\"val\"/>\n",
      "                          </property>\n",
      "                        </dotaccessor>\n",
      "                      </function>\n",
      "                      <arguments/>\n",
      "                    </functioncall>\n",
      "                  </var>\n",
      "                  <functioncall>\n",
      "                    <function>\n",
      "                      <dotaccessor>\n",
      "                        <object>\n",
      "                          <functioncall>\n",
      "                            <function>\n",
      "                              <dotaccessor>\n",
      "                                <object>\n",
      "                                  <functioncall>\n",
      "                                    <function>\n",
      "                                      <dotaccessor>\n",
      "                                        <object>\n",
      "                                          <functioncall>\n",
      "                                            <function>\n",
      "                                              <dotaccessor>\n",
      "                                                <object>\n",
      "                                                  <functioncall>\n",
      "                                                    <function>\n",
      "                                                      <dotaccessor>\n",
      "                                                        <object>\n",
      "                                                          <functioncall>\n",
      "                                                            <function>\n",
      "                                                            <dotaccessor>\n",
      "                                                            <object>\n",
      "                                                            <functioncall>\n",
      "                                                            <function>\n",
      "                                                            <identifier name=\"jQuery\"/>\n",
      "                                                            </function>\n",
      "                                                            <arguments>\n",
      "                                                            <string>#product-3727646661 .single-option-selector</string>\n",
      "                                                            </arguments>\n",
      "                                                            </functioncall>\n",
      "                                                            </object>\n",
      "                                                            <property>\n",
      "                                                            <identifier name=\"eq\"/>\n",
      "                                                            </property>\n",
      "                                                            </dotaccessor>\n",
      "                                                            </function>\n",
      "                                                            <arguments>\n",
      "                                                            <identifier name=\"optionIndex\"/>\n",
      "                                                            </arguments>\n",
      "                                                          </functioncall>\n",
      "                                                        </object>\n",
      "                                                        <property>\n",
      "                                                          <identifier name=\"find\"/>\n",
      "                                                        </property>\n",
      "                                                      </dotaccessor>\n",
      "                                                    </function>\n",
      "                                                    <arguments>\n",
      "                                                      <string>option</string>\n",
      "                                                    </arguments>\n",
      "                                                  </functioncall>\n",
      "                                                </object>\n",
      "                                                <property>\n",
      "                                                  <identifier name=\"filter\"/>\n",
      "                                                </property>\n",
      "                                              </dotaccessor>\n",
      "                                            </function>\n",
      "                                            <arguments>\n",
      "                                              <funcexpr>\n",
      "                                                <identifier/>\n",
      "                                                <parameters/>\n",
      "                                                <body>\n",
      "                                                  <return>\n",
      "                                                    <binaryoperation operation=\"==\">\n",
      "                                                      <left>\n",
      "                                                        <functioncall>\n",
      "                                                          <function>\n",
      "                                                            <dotaccessor>\n",
      "                                                            <object>\n",
      "                                                            <functioncall>\n",
      "                                                            <function>\n",
      "                                                            <identifier name=\"jQuery\"/>\n",
      "                                                            </function>\n",
      "                                                            <arguments>\n",
      "                                                            <identifier>this</identifier>\n",
      "                                                            </arguments>\n",
      "                                                            </functioncall>\n",
      "                                                            </object>\n",
      "                                                            <property>\n",
      "                                                            <identifier name=\"text\"/>\n",
      "                                                            </property>\n",
      "                                                            </dotaccessor>\n",
      "                                                          </function>\n",
      "                                                          <arguments/>\n",
      "                                                        </functioncall>\n",
      "                                                      </left>\n",
      "                                                      <right>\n",
      "                                                        <identifier name=\"optionValue\"/>\n",
      "                                                      </right>\n",
      "                                                    </binaryoperation>\n",
      "                                                  </return>\n",
      "                                                </body>\n",
      "                                              </funcexpr>\n",
      "                                            </arguments>\n",
      "                                          </functioncall>\n",
      "                                        </object>\n",
      "                                        <property>\n",
      "                                          <identifier name=\"parent\"/>\n",
      "                                        </property>\n",
      "                                      </dotaccessor>\n",
      "                                    </function>\n",
      "                                    <arguments/>\n",
      "                                  </functioncall>\n",
      "                                </object>\n",
      "                                <property>\n",
      "                                  <identifier name=\"val\"/>\n",
      "                                </property>\n",
      "                              </dotaccessor>\n",
      "                            </function>\n",
      "                            <arguments>\n",
      "                              <identifier name=\"optionValue\"/>\n",
      "                            </arguments>\n",
      "                          </functioncall>\n",
      "                        </object>\n",
      "                        <property>\n",
      "                          <identifier name=\"trigger\"/>\n",
      "                        </property>\n",
      "                      </dotaccessor>\n",
      "                    </function>\n",
      "                    <arguments>\n",
      "                      <string>change</string>\n",
      "                    </arguments>\n",
      "                  </functioncall>\n",
      "                </body>\n",
      "              </funcexpr>\n",
      "            </arguments>\n",
      "          </functioncall>\n",
      "          <functioncall>\n",
      "            <function>\n",
      "              <dotaccessor>\n",
      "                <object>\n",
      "                  <functioncall>\n",
      "                    <function>\n",
      "                      <identifier name=\"$\"/>\n",
      "                    </function>\n",
      "                    <arguments>\n",
      "                      <string>.single-option-selector</string>\n",
      "                    </arguments>\n",
      "                  </functioncall>\n",
      "                </object>\n",
      "                <property>\n",
      "                  <identifier name=\"selecter\"/>\n",
      "                </property>\n",
      "              </dotaccessor>\n",
      "            </function>\n",
      "            <arguments/>\n",
      "          </functioncall>\n",
      "        </body>\n",
      "      </funcexpr>\n",
      "    </arguments>\n",
      "  </functioncall>\n",
      "</program>\n",
      "\n"
     ]
    }
   ],
   "source": [
    "# recall this line:\n",
    "# new Shopify.OptionSelectors(\"product-select-3727646661\", { product...\n",
    "print(js2xml.pretty_print(jstree))"
   ]
  },
  {
   "cell_type": "code",
   "execution_count": 21,
   "metadata": {
    "collapsed": false,
    "slideshow": {
     "slide_type": "slide"
    }
   },
   "outputs": [
    {
     "data": {
      "text/plain": [
       "[<Element string at 0x7f47195caa70>, <Element object at 0x7f47195ca4d0>]"
      ]
     },
     "execution_count": 21,
     "metadata": {},
     "output_type": "execute_result"
    }
   ],
   "source": [
    "jstree.xpath('//new/arguments/*')"
   ]
  },
  {
   "cell_type": "code",
   "execution_count": 23,
   "metadata": {
    "collapsed": false,
    "slideshow": {
     "slide_type": "fragment"
    }
   },
   "outputs": [
    {
     "data": {
      "text/plain": [
       "[<Element object at 0x7f47195ca4d0>]"
      ]
     },
     "execution_count": 23,
     "metadata": {},
     "output_type": "execute_result"
    }
   ],
   "source": [
    "# just the 2nd argument of the contructor identified by \"OptionSelectors\"\n",
    "jstree.xpath('//new[.//@name=\"OptionSelectors\"]/arguments/*[2]')"
   ]
  },
  {
   "cell_type": "code",
   "execution_count": 25,
   "metadata": {
    "collapsed": false,
    "slideshow": {
     "slide_type": "slide"
    }
   },
   "outputs": [
    {
     "data": {
      "text/plain": [
       "['product-select-3727646661',\n",
       " {'enableHistoryState': True,\n",
       "  'onVariantSelected': 'selectCallback',\n",
       "  'product': {'available': True,\n",
       "   'compare_at_price': None,\n",
       "   'compare_at_price_max': 0,\n",
       "   'compare_at_price_min': 0,\n",
       "   'compare_at_price_varies': False,\n",
       "   'content': '<span>- Acrylic lenses </span><br><span>- Lightweight and impact resistant lenses </span><br><span>- Large, oversized circular shape </span>',\n",
       "   'created_at': '2016-02-10T13:53:46+11:00',\n",
       "   'description': '<span>- Acrylic lenses </span><br><span>- Lightweight and impact resistant lenses </span><br><span>- Large, oversized circular shape </span>',\n",
       "   'featured_image': '//cdn.shopify.com/s/files/1/0053/6742/products/10.jpg?v=1455075040',\n",
       "   'handle': 'last-chance-black',\n",
       "   'id': 3727646661,\n",
       "   'images': ['//cdn.shopify.com/s/files/1/0053/6742/products/10.jpg?v=1455075040',\n",
       "    '//cdn.shopify.com/s/files/1/0053/6742/products/9.jpg?v=1455075040'],\n",
       "   'options': ['COLOUR', 'SIZE'],\n",
       "   'price': 4900,\n",
       "   'price_max': 4900,\n",
       "   'price_min': 4900,\n",
       "   'price_varies': False,\n",
       "   'published_at': '2016-02-10T13:53:00+11:00',\n",
       "   'tags': [],\n",
       "   'title': 'Last Chance - Black',\n",
       "   'type': 'ACCESSORIES',\n",
       "   'variants': [{'available': True,\n",
       "     'barcode': None,\n",
       "     'compare_at_price': None,\n",
       "     'featured_image': None,\n",
       "     'id': 10967944453,\n",
       "     'inventory_management': 'shopify',\n",
       "     'inventory_policy': 'deny',\n",
       "     'inventory_quantity': 2,\n",
       "     'option1': 'BLACK',\n",
       "     'option2': 'ONE SIZE',\n",
       "     'option3': None,\n",
       "     'options': ['BLACK', 'ONE SIZE'],\n",
       "     'price': 4900,\n",
       "     'requires_shipping': True,\n",
       "     'sku': 'MNP1608012.BLK',\n",
       "     'taxable': True,\n",
       "     'title': 'BLACK / ONE SIZE',\n",
       "     'weight': 0}],\n",
       "   'vendor': 'MINKPINK SUNGLASSES'}}]"
      ]
     },
     "execution_count": 25,
     "metadata": {},
     "output_type": "execute_result"
    }
   ],
   "source": [
    "# Note: make dict is not the most appropriate name here...\n",
    "map(js2xml.jsonlike.make_dict, jstree.xpath('//new/arguments/*'))"
   ]
  },
  {
   "cell_type": "markdown",
   "metadata": {
    "slideshow": {
     "slide_type": "slide"
    }
   },
   "source": [
    "# Use-case: non-double quoted strings"
   ]
  },
  {
   "cell_type": "code",
   "execution_count": 26,
   "metadata": {
    "collapsed": true,
    "slideshow": {
     "slide_type": "fragment"
    }
   },
   "outputs": [],
   "source": [
    "# adapted from https://stackoverflow.com/questions/33932654/\n",
    "js = r'''\n",
    "dataLayer = [{'place': 'paris', \n",
    "        'description': 'its one of the world\\'s beautiful places.' }];\n",
    "'''"
   ]
  },
  {
   "cell_type": "code",
   "execution_count": 27,
   "metadata": {
    "collapsed": false,
    "slideshow": {
     "slide_type": "fragment"
    }
   },
   "outputs": [
    {
     "data": {
      "text/plain": [
       "\"[{'place': 'paris', \\n        'description': 'its one of the world\\\\'s beautiful places.' }]\""
      ]
     },
     "execution_count": 27,
     "metadata": {},
     "output_type": "execute_result"
    }
   ],
   "source": [
    "import re, json\n",
    "m = re.search(\"dataLayer = (\\[.*?\\]);\", js, re.DOTALL | re.MULTILINE)\n",
    "m.group(1)"
   ]
  },
  {
   "cell_type": "code",
   "execution_count": 28,
   "metadata": {
    "collapsed": false,
    "slideshow": {
     "slide_type": "slide"
    }
   },
   "outputs": [
    {
     "ename": "ValueError",
     "evalue": "Expecting property name: line 1 column 3 (char 2)",
     "output_type": "error",
     "traceback": [
      "\u001b[1;31m---------------------------------------------------------------------------\u001b[0m",
      "\u001b[1;31mValueError\u001b[0m                                Traceback (most recent call last)",
      "\u001b[1;32m<ipython-input-28-0d32475bf3d9>\u001b[0m in \u001b[0;36m<module>\u001b[1;34m()\u001b[0m\n\u001b[1;32m----> 1\u001b[1;33m \u001b[0mjson\u001b[0m\u001b[1;33m.\u001b[0m\u001b[0mloads\u001b[0m\u001b[1;33m(\u001b[0m\u001b[0mm\u001b[0m\u001b[1;33m.\u001b[0m\u001b[0mgroup\u001b[0m\u001b[1;33m(\u001b[0m\u001b[1;36m1\u001b[0m\u001b[1;33m)\u001b[0m\u001b[1;33m)\u001b[0m\u001b[1;33m\u001b[0m\u001b[0m\n\u001b[0m",
      "\u001b[1;32m/usr/lib/python2.7/json/__init__.pyc\u001b[0m in \u001b[0;36mloads\u001b[1;34m(s, encoding, cls, object_hook, parse_float, parse_int, parse_constant, object_pairs_hook, **kw)\u001b[0m\n\u001b[0;32m    337\u001b[0m             \u001b[0mparse_int\u001b[0m \u001b[1;32mis\u001b[0m \u001b[0mNone\u001b[0m \u001b[1;32mand\u001b[0m \u001b[0mparse_float\u001b[0m \u001b[1;32mis\u001b[0m \u001b[0mNone\u001b[0m \u001b[1;32mand\u001b[0m\u001b[1;33m\u001b[0m\u001b[0m\n\u001b[0;32m    338\u001b[0m             parse_constant is None and object_pairs_hook is None and not kw):\n\u001b[1;32m--> 339\u001b[1;33m         \u001b[1;32mreturn\u001b[0m \u001b[0m_default_decoder\u001b[0m\u001b[1;33m.\u001b[0m\u001b[0mdecode\u001b[0m\u001b[1;33m(\u001b[0m\u001b[0ms\u001b[0m\u001b[1;33m)\u001b[0m\u001b[1;33m\u001b[0m\u001b[0m\n\u001b[0m\u001b[0;32m    340\u001b[0m     \u001b[1;32mif\u001b[0m \u001b[0mcls\u001b[0m \u001b[1;32mis\u001b[0m \u001b[0mNone\u001b[0m\u001b[1;33m:\u001b[0m\u001b[1;33m\u001b[0m\u001b[0m\n\u001b[0;32m    341\u001b[0m         \u001b[0mcls\u001b[0m \u001b[1;33m=\u001b[0m \u001b[0mJSONDecoder\u001b[0m\u001b[1;33m\u001b[0m\u001b[0m\n",
      "\u001b[1;32m/usr/lib/python2.7/json/decoder.pyc\u001b[0m in \u001b[0;36mdecode\u001b[1;34m(self, s, _w)\u001b[0m\n\u001b[0;32m    362\u001b[0m \u001b[1;33m\u001b[0m\u001b[0m\n\u001b[0;32m    363\u001b[0m         \"\"\"\n\u001b[1;32m--> 364\u001b[1;33m         \u001b[0mobj\u001b[0m\u001b[1;33m,\u001b[0m \u001b[0mend\u001b[0m \u001b[1;33m=\u001b[0m \u001b[0mself\u001b[0m\u001b[1;33m.\u001b[0m\u001b[0mraw_decode\u001b[0m\u001b[1;33m(\u001b[0m\u001b[0ms\u001b[0m\u001b[1;33m,\u001b[0m \u001b[0midx\u001b[0m\u001b[1;33m=\u001b[0m\u001b[0m_w\u001b[0m\u001b[1;33m(\u001b[0m\u001b[0ms\u001b[0m\u001b[1;33m,\u001b[0m \u001b[1;36m0\u001b[0m\u001b[1;33m)\u001b[0m\u001b[1;33m.\u001b[0m\u001b[0mend\u001b[0m\u001b[1;33m(\u001b[0m\u001b[1;33m)\u001b[0m\u001b[1;33m)\u001b[0m\u001b[1;33m\u001b[0m\u001b[0m\n\u001b[0m\u001b[0;32m    365\u001b[0m         \u001b[0mend\u001b[0m \u001b[1;33m=\u001b[0m \u001b[0m_w\u001b[0m\u001b[1;33m(\u001b[0m\u001b[0ms\u001b[0m\u001b[1;33m,\u001b[0m \u001b[0mend\u001b[0m\u001b[1;33m)\u001b[0m\u001b[1;33m.\u001b[0m\u001b[0mend\u001b[0m\u001b[1;33m(\u001b[0m\u001b[1;33m)\u001b[0m\u001b[1;33m\u001b[0m\u001b[0m\n\u001b[0;32m    366\u001b[0m         \u001b[1;32mif\u001b[0m \u001b[0mend\u001b[0m \u001b[1;33m!=\u001b[0m \u001b[0mlen\u001b[0m\u001b[1;33m(\u001b[0m\u001b[0ms\u001b[0m\u001b[1;33m)\u001b[0m\u001b[1;33m:\u001b[0m\u001b[1;33m\u001b[0m\u001b[0m\n",
      "\u001b[1;32m/usr/lib/python2.7/json/decoder.pyc\u001b[0m in \u001b[0;36mraw_decode\u001b[1;34m(self, s, idx)\u001b[0m\n\u001b[0;32m    378\u001b[0m         \"\"\"\n\u001b[0;32m    379\u001b[0m         \u001b[1;32mtry\u001b[0m\u001b[1;33m:\u001b[0m\u001b[1;33m\u001b[0m\u001b[0m\n\u001b[1;32m--> 380\u001b[1;33m             \u001b[0mobj\u001b[0m\u001b[1;33m,\u001b[0m \u001b[0mend\u001b[0m \u001b[1;33m=\u001b[0m \u001b[0mself\u001b[0m\u001b[1;33m.\u001b[0m\u001b[0mscan_once\u001b[0m\u001b[1;33m(\u001b[0m\u001b[0ms\u001b[0m\u001b[1;33m,\u001b[0m \u001b[0midx\u001b[0m\u001b[1;33m)\u001b[0m\u001b[1;33m\u001b[0m\u001b[0m\n\u001b[0m\u001b[0;32m    381\u001b[0m         \u001b[1;32mexcept\u001b[0m \u001b[0mStopIteration\u001b[0m\u001b[1;33m:\u001b[0m\u001b[1;33m\u001b[0m\u001b[0m\n\u001b[0;32m    382\u001b[0m             \u001b[1;32mraise\u001b[0m \u001b[0mValueError\u001b[0m\u001b[1;33m(\u001b[0m\u001b[1;34m\"No JSON object could be decoded\"\u001b[0m\u001b[1;33m)\u001b[0m\u001b[1;33m\u001b[0m\u001b[0m\n",
      "\u001b[1;31mValueError\u001b[0m: Expecting property name: line 1 column 3 (char 2)"
     ]
    }
   ],
   "source": [
    "json.loads(m.group(1))"
   ]
  },
  {
   "cell_type": "markdown",
   "metadata": {
    "slideshow": {
     "slide_type": "slide"
    }
   },
   "source": [
    "Ouch..."
   ]
  },
  {
   "cell_type": "code",
   "execution_count": 30,
   "metadata": {
    "collapsed": false,
    "slideshow": {
     "slide_type": "slide"
    }
   },
   "outputs": [
    {
     "name": "stdout",
     "output_type": "stream",
     "text": [
      "[{\"place\": \"paris\", \n",
      "        \"description\": \"its one of the world\\\"s beautiful places.\" }]\n"
     ]
    }
   ],
   "source": [
    "print(re.sub(r\"('\\B)|(\\B')\", '\"', m.group(1)))"
   ]
  },
  {
   "cell_type": "code",
   "execution_count": 31,
   "metadata": {
    "collapsed": false,
    "slideshow": {
     "slide_type": "fragment"
    }
   },
   "outputs": [
    {
     "data": {
      "text/plain": [
       "[{u'description': u'its one of the world\"s beautiful places.',\n",
       "  u'place': u'paris'}]"
      ]
     },
     "execution_count": 31,
     "metadata": {},
     "output_type": "execute_result"
    }
   ],
   "source": [
    "json.loads(re.sub(r\"('\\B)|(\\B')\", '\"', m.group(1)))"
   ]
  },
  {
   "cell_type": "markdown",
   "metadata": {
    "slideshow": {
     "slide_type": "slide"
    }
   },
   "source": [
    "The js2xml way..."
   ]
  },
  {
   "cell_type": "code",
   "execution_count": 32,
   "metadata": {
    "collapsed": false,
    "slideshow": {
     "slide_type": "-"
    }
   },
   "outputs": [
    {
     "name": "stdout",
     "output_type": "stream",
     "text": [
      "<program>\n",
      "  <assign operator=\"=\">\n",
      "    <left>\n",
      "      <identifier name=\"dataLayer\"/>\n",
      "    </left>\n",
      "    <right>\n",
      "      <array>\n",
      "        <object>\n",
      "          <property name=\"place\">\n",
      "            <string>paris</string>\n",
      "          </property>\n",
      "          <property name=\"description\">\n",
      "            <string>its one of the world's beautiful places.</string>\n",
      "          </property>\n",
      "        </object>\n",
      "      </array>\n",
      "    </right>\n",
      "  </assign>\n",
      "</program>\n",
      "\n"
     ]
    }
   ],
   "source": [
    "jstree = js2xml.parse(js)\n",
    "print(js2xml.pretty_print(jstree))"
   ]
  },
  {
   "cell_type": "code",
   "execution_count": 34,
   "metadata": {
    "collapsed": false,
    "slideshow": {
     "slide_type": "slide"
    }
   },
   "outputs": [
    {
     "data": {
      "text/plain": [
       "[<Element array at 0x7f4719638290>]"
      ]
     },
     "execution_count": 34,
     "metadata": {},
     "output_type": "execute_result"
    }
   ],
   "source": [
    "values = jstree.xpath('//assign[left/identifier/@name=\"dataLayer\"]/right/*')\n",
    "values"
   ]
  },
  {
   "cell_type": "code",
   "execution_count": 36,
   "metadata": {
    "collapsed": false,
    "slideshow": {
     "slide_type": "fragment"
    }
   },
   "outputs": [
    {
     "data": {
      "text/plain": [
       "[{'description': \"its one of the world's beautiful places.\", 'place': 'paris'}]"
      ]
     },
     "execution_count": 36,
     "metadata": {},
     "output_type": "execute_result"
    }
   ],
   "source": [
    "# once you have an <array>, use make_dict()\n",
    "js2xml.jsonlike.make_dict(values[0])"
   ]
  },
  {
   "cell_type": "markdown",
   "metadata": {
    "slideshow": {
     "slide_type": "slide"
    }
   },
   "source": [
    "### Another example with non-string keys"
   ]
  },
  {
   "cell_type": "code",
   "execution_count": 37,
   "metadata": {
    "collapsed": true,
    "slideshow": {
     "slide_type": "-"
    }
   },
   "outputs": [],
   "source": [
    "# from https://www.mcdonalds.com.sg/locate-us/\n",
    "mcdonalds = r'''\n",
    "<script>\n",
    "  var _MCD = _MCD || {};\n",
    "  _MCD.Config = _MCD.Config || {};\n",
    "  \n",
    "  _MCD.Config.StoreLocator = {\n",
    "    service_root: 'https://www.mcdonalds.com.sg/wp/wp-admin/admin-ajax.php?',\n",
    "    store_types: [\n",
    "      { id: 1, slug: '24-hrs', label: '24-hrs', icon: 'https://d1nqx6es26drid.cloudfront.net/app/assets/img/icon_locate_us_24_hours.png' },\n",
    "      { id: 2, slug: '24-hrs-weekend', label: '24-hrs Weekend', icon: 'https://d1nqx6es26drid.cloudfront.net/app/assets/img/icon_locate_us_24_hours_weekend.png' },\n",
    "      { id: 3, slug: 'dessert-kiosk', label: 'Dessert Kiosk', icon: 'https://d1nqx6es26drid.cloudfront.net/app/assets/img/icon_locate_us_dessert_kiosk.png' },\n",
    "      { id: 4, slug: 'drive-thru', label: 'Drive-Thru', icon: 'https://d1nqx6es26drid.cloudfront.net/app/assets/img/icon_locate_us_drive_through.png' },\n",
    "      { id: 5, slug: 'live-screening', label: 'Live Screening', icon: 'https://d1nqx6es26drid.cloudfront.net/app/assets/img/icon_locate_us_live_screening.png' },\n",
    "      { id: 6, slug: 'mccafe', label: 'McCafe', icon: 'https://d1nqx6es26drid.cloudfront.net/app/assets/img/icon_locate_us_mc_cafe.png' },\n",
    "      { id: 7, slug: 'birthday-restaurant', label: 'Birthday Restaurant', icon: 'https://d1nqx6es26drid.cloudfront.net/app/assets/img/icon_locate_us_birthday_restaurant.png' },\n",
    "      { id: 8, slug: 'create-your-taste', label: 'Create Your Taste', icon: 'https://d1nqx6es26drid.cloudfront.net/app/assets/img/icon_locate_us_create_your_taste.png' }\n",
    "    ],\n",
    "    modules: {\n",
    "      Result: {\n",
    "        flag: 'https://d1nqx6es26drid.cloudfront.net/app/assets/img/storeflag.png'\n",
    "      }\n",
    "    }\n",
    "  };\n",
    "</script>\n",
    "'''"
   ]
  },
  {
   "cell_type": "code",
   "execution_count": 38,
   "metadata": {
    "collapsed": true,
    "slideshow": {
     "slide_type": "slide"
    }
   },
   "outputs": [],
   "source": [
    "import scrapy \n",
    "\n",
    "selector = scrapy.Selector(text=mcdonalds, type=\"html\")\n",
    "jssnippet = selector.xpath('string(//script/text())').extract_first()"
   ]
  },
  {
   "cell_type": "code",
   "execution_count": 39,
   "metadata": {
    "collapsed": false,
    "slideshow": {
     "slide_type": "slide"
    }
   },
   "outputs": [],
   "source": [
    "jstree = js2xml.parse(jssnippet)"
   ]
  },
  {
   "cell_type": "code",
   "execution_count": 40,
   "metadata": {
    "collapsed": false,
    "slideshow": {
     "slide_type": "fragment"
    }
   },
   "outputs": [
    {
     "name": "stdout",
     "output_type": "stream",
     "text": [
      "<program>\n",
      "  <var name=\"_MCD\">\n",
      "    <binaryoperation operation=\"||\">\n",
      "      <left>\n",
      "        <identifier name=\"_MCD\"/>\n",
      "      </left>\n",
      "      <right>\n",
      "        <object/>\n",
      "      </right>\n",
      "    </binaryoperation>\n",
      "  </var>\n",
      "  <assign operator=\"=\">\n",
      "    <left>\n",
      "      <dotaccessor>\n",
      "        <object>\n",
      "          <identifier name=\"_MCD\"/>\n",
      "        </object>\n",
      "        <property>\n",
      "          <identifier name=\"Config\"/>\n",
      "        </property>\n",
      "      </dotaccessor>\n",
      "    </left>\n",
      "    <right>\n",
      "      <binaryoperation operation=\"||\">\n",
      "        <left>\n",
      "          <dotaccessor>\n",
      "            <object>\n",
      "              <identifier name=\"_MCD\"/>\n",
      "            </object>\n",
      "            <property>\n",
      "              <identifier name=\"Config\"/>\n",
      "            </property>\n",
      "          </dotaccessor>\n",
      "        </left>\n",
      "        <right>\n",
      "          <object/>\n",
      "        </right>\n",
      "      </binaryoperation>\n",
      "    </right>\n",
      "  </assign>\n",
      "  <assign operator=\"=\">\n",
      "    <left>\n",
      "      <dotaccessor>\n",
      "        <object>\n",
      "          <dotaccessor>\n",
      "            <object>\n",
      "              <identifier name=\"_MCD\"/>\n",
      "            </object>\n",
      "            <property>\n",
      "              <identifier name=\"Config\"/>\n",
      "            </property>\n",
      "          </dotaccessor>\n",
      "        </object>\n",
      "        <property>\n",
      "          <identifier name=\"StoreLocator\"/>\n",
      "        </property>\n",
      "      </dotaccessor>\n",
      "    </left>\n",
      "    <right>\n",
      "      <object>\n",
      "        <property name=\"service_root\">\n",
      "          <string>https://www.mcdonalds.com.sg/wp/wp-admin/admin-ajax.php?</string>\n",
      "        </property>\n",
      "        <property name=\"store_types\">\n",
      "          <array>\n",
      "            <object>\n",
      "              <property name=\"id\">\n",
      "                <number value=\"1\"/>\n",
      "              </property>\n",
      "              <property name=\"slug\">\n",
      "                <string>24-hrs</string>\n",
      "              </property>\n",
      "              <property name=\"label\">\n",
      "                <string>24-hrs</string>\n",
      "              </property>\n",
      "              <property name=\"icon\">\n",
      "                <string>https://d1nqx6es26drid.cloudfront.net/app/assets/img/icon_locate_us_24_hours.png</string>\n",
      "              </property>\n",
      "            </object>\n",
      "            <object>\n",
      "              <property name=\"id\">\n",
      "                <number value=\"2\"/>\n",
      "              </property>\n",
      "              <property name=\"slug\">\n",
      "                <string>24-hrs-weekend</string>\n",
      "              </property>\n",
      "              <property name=\"label\">\n",
      "                <string>24-hrs Weekend</string>\n",
      "              </property>\n",
      "              <property name=\"icon\">\n",
      "                <string>https://d1nqx6es26drid.cloudfront.net/app/assets/img/icon_locate_us_24_hours_weekend.png</string>\n",
      "              </property>\n",
      "            </object>\n",
      "            <object>\n",
      "              <property name=\"id\">\n",
      "                <number value=\"3\"/>\n",
      "              </property>\n",
      "              <property name=\"slug\">\n",
      "                <string>dessert-kiosk</string>\n",
      "              </property>\n",
      "              <property name=\"label\">\n",
      "                <string>Dessert Kiosk</string>\n",
      "              </property>\n",
      "              <property name=\"icon\">\n",
      "                <string>https://d1nqx6es26drid.cloudfront.net/app/assets/img/icon_locate_us_dessert_kiosk.png</string>\n",
      "              </property>\n",
      "            </object>\n",
      "            <object>\n",
      "              <property name=\"id\">\n",
      "                <number value=\"4\"/>\n",
      "              </property>\n",
      "              <property name=\"slug\">\n",
      "                <string>drive-thru</string>\n",
      "              </property>\n",
      "              <property name=\"label\">\n",
      "                <string>Drive-Thru</string>\n",
      "              </property>\n",
      "              <property name=\"icon\">\n",
      "                <string>https://d1nqx6es26drid.cloudfront.net/app/assets/img/icon_locate_us_drive_through.png</string>\n",
      "              </property>\n",
      "            </object>\n",
      "            <object>\n",
      "              <property name=\"id\">\n",
      "                <number value=\"5\"/>\n",
      "              </property>\n",
      "              <property name=\"slug\">\n",
      "                <string>live-screening</string>\n",
      "              </property>\n",
      "              <property name=\"label\">\n",
      "                <string>Live Screening</string>\n",
      "              </property>\n",
      "              <property name=\"icon\">\n",
      "                <string>https://d1nqx6es26drid.cloudfront.net/app/assets/img/icon_locate_us_live_screening.png</string>\n",
      "              </property>\n",
      "            </object>\n",
      "            <object>\n",
      "              <property name=\"id\">\n",
      "                <number value=\"6\"/>\n",
      "              </property>\n",
      "              <property name=\"slug\">\n",
      "                <string>mccafe</string>\n",
      "              </property>\n",
      "              <property name=\"label\">\n",
      "                <string>McCafe</string>\n",
      "              </property>\n",
      "              <property name=\"icon\">\n",
      "                <string>https://d1nqx6es26drid.cloudfront.net/app/assets/img/icon_locate_us_mc_cafe.png</string>\n",
      "              </property>\n",
      "            </object>\n",
      "            <object>\n",
      "              <property name=\"id\">\n",
      "                <number value=\"7\"/>\n",
      "              </property>\n",
      "              <property name=\"slug\">\n",
      "                <string>birthday-restaurant</string>\n",
      "              </property>\n",
      "              <property name=\"label\">\n",
      "                <string>Birthday Restaurant</string>\n",
      "              </property>\n",
      "              <property name=\"icon\">\n",
      "                <string>https://d1nqx6es26drid.cloudfront.net/app/assets/img/icon_locate_us_birthday_restaurant.png</string>\n",
      "              </property>\n",
      "            </object>\n",
      "            <object>\n",
      "              <property name=\"id\">\n",
      "                <number value=\"8\"/>\n",
      "              </property>\n",
      "              <property name=\"slug\">\n",
      "                <string>create-your-taste</string>\n",
      "              </property>\n",
      "              <property name=\"label\">\n",
      "                <string>Create Your Taste</string>\n",
      "              </property>\n",
      "              <property name=\"icon\">\n",
      "                <string>https://d1nqx6es26drid.cloudfront.net/app/assets/img/icon_locate_us_create_your_taste.png</string>\n",
      "              </property>\n",
      "            </object>\n",
      "          </array>\n",
      "        </property>\n",
      "        <property name=\"modules\">\n",
      "          <object>\n",
      "            <property name=\"Result\">\n",
      "              <object>\n",
      "                <property name=\"flag\">\n",
      "                  <string>https://d1nqx6es26drid.cloudfront.net/app/assets/img/storeflag.png</string>\n",
      "                </property>\n",
      "              </object>\n",
      "            </property>\n",
      "          </object>\n",
      "        </property>\n",
      "      </object>\n",
      "    </right>\n",
      "  </assign>\n",
      "</program>\n",
      "\n"
     ]
    }
   ],
   "source": [
    "print(js2xml.pretty_print(jstree))"
   ]
  },
  {
   "cell_type": "markdown",
   "metadata": {
    "slideshow": {
     "slide_type": "slide"
    }
   },
   "source": [
    "Say you want to get all strings"
   ]
  },
  {
   "cell_type": "code",
   "execution_count": 41,
   "metadata": {
    "collapsed": false,
    "slideshow": {
     "slide_type": "-"
    }
   },
   "outputs": [
    {
     "data": {
      "text/plain": [
       "['https://www.mcdonalds.com.sg/wp/wp-admin/admin-ajax.php?',\n",
       " '24-hrs',\n",
       " '24-hrs',\n",
       " 'https://d1nqx6es26drid.cloudfront.net/app/assets/img/icon_locate_us_24_hours.png',\n",
       " '24-hrs-weekend',\n",
       " '24-hrs Weekend',\n",
       " 'https://d1nqx6es26drid.cloudfront.net/app/assets/img/icon_locate_us_24_hours_weekend.png',\n",
       " 'dessert-kiosk',\n",
       " 'Dessert Kiosk',\n",
       " 'https://d1nqx6es26drid.cloudfront.net/app/assets/img/icon_locate_us_dessert_kiosk.png',\n",
       " 'drive-thru',\n",
       " 'Drive-Thru',\n",
       " 'https://d1nqx6es26drid.cloudfront.net/app/assets/img/icon_locate_us_drive_through.png',\n",
       " 'live-screening',\n",
       " 'Live Screening',\n",
       " 'https://d1nqx6es26drid.cloudfront.net/app/assets/img/icon_locate_us_live_screening.png',\n",
       " 'mccafe',\n",
       " 'McCafe',\n",
       " 'https://d1nqx6es26drid.cloudfront.net/app/assets/img/icon_locate_us_mc_cafe.png',\n",
       " 'birthday-restaurant',\n",
       " 'Birthday Restaurant',\n",
       " 'https://d1nqx6es26drid.cloudfront.net/app/assets/img/icon_locate_us_birthday_restaurant.png',\n",
       " 'create-your-taste',\n",
       " 'Create Your Taste',\n",
       " 'https://d1nqx6es26drid.cloudfront.net/app/assets/img/icon_locate_us_create_your_taste.png',\n",
       " 'https://d1nqx6es26drid.cloudfront.net/app/assets/img/storeflag.png']"
      ]
     },
     "execution_count": 41,
     "metadata": {},
     "output_type": "execute_result"
    }
   ],
   "source": [
    "jstree.xpath('//string/text()')"
   ]
  },
  {
   "cell_type": "markdown",
   "metadata": {
    "slideshow": {
     "slide_type": "slide"
    }
   },
   "source": [
    "Say you want to grab `_MCD.Config.StoreLocator`"
   ]
  },
  {
   "cell_type": "code",
   "execution_count": 42,
   "metadata": {
    "collapsed": false,
    "slideshow": {
     "slide_type": "-"
    }
   },
   "outputs": [
    {
     "data": {
      "text/plain": [
       "[<Element object at 0x7f47186b8680>]"
      ]
     },
     "execution_count": 42,
     "metadata": {},
     "output_type": "execute_result"
    }
   ],
   "source": [
    "# you have to know the XML structure a bit...\n",
    "jstree.xpath(r'''\n",
    "    //assign[left//property/identifier/@name=\"StoreLocator\"]\n",
    "        /right/*''')"
   ]
  },
  {
   "cell_type": "code",
   "execution_count": 43,
   "metadata": {
    "collapsed": false,
    "scrolled": true,
    "slideshow": {
     "slide_type": "fragment"
    }
   },
   "outputs": [
    {
     "data": {
      "text/plain": [
       "{'modules': {'Result': {'flag': 'https://d1nqx6es26drid.cloudfront.net/app/assets/img/storeflag.png'}},\n",
       " 'service_root': 'https://www.mcdonalds.com.sg/wp/wp-admin/admin-ajax.php?',\n",
       " 'store_types': [{'icon': 'https://d1nqx6es26drid.cloudfront.net/app/assets/img/icon_locate_us_24_hours.png',\n",
       "   'id': 1,\n",
       "   'label': '24-hrs',\n",
       "   'slug': '24-hrs'},\n",
       "  {'icon': 'https://d1nqx6es26drid.cloudfront.net/app/assets/img/icon_locate_us_24_hours_weekend.png',\n",
       "   'id': 2,\n",
       "   'label': '24-hrs Weekend',\n",
       "   'slug': '24-hrs-weekend'},\n",
       "  {'icon': 'https://d1nqx6es26drid.cloudfront.net/app/assets/img/icon_locate_us_dessert_kiosk.png',\n",
       "   'id': 3,\n",
       "   'label': 'Dessert Kiosk',\n",
       "   'slug': 'dessert-kiosk'},\n",
       "  {'icon': 'https://d1nqx6es26drid.cloudfront.net/app/assets/img/icon_locate_us_drive_through.png',\n",
       "   'id': 4,\n",
       "   'label': 'Drive-Thru',\n",
       "   'slug': 'drive-thru'},\n",
       "  {'icon': 'https://d1nqx6es26drid.cloudfront.net/app/assets/img/icon_locate_us_live_screening.png',\n",
       "   'id': 5,\n",
       "   'label': 'Live Screening',\n",
       "   'slug': 'live-screening'},\n",
       "  {'icon': 'https://d1nqx6es26drid.cloudfront.net/app/assets/img/icon_locate_us_mc_cafe.png',\n",
       "   'id': 6,\n",
       "   'label': 'McCafe',\n",
       "   'slug': 'mccafe'},\n",
       "  {'icon': 'https://d1nqx6es26drid.cloudfront.net/app/assets/img/icon_locate_us_birthday_restaurant.png',\n",
       "   'id': 7,\n",
       "   'label': 'Birthday Restaurant',\n",
       "   'slug': 'birthday-restaurant'},\n",
       "  {'icon': 'https://d1nqx6es26drid.cloudfront.net/app/assets/img/icon_locate_us_create_your_taste.png',\n",
       "   'id': 8,\n",
       "   'label': 'Create Your Taste',\n",
       "   'slug': 'create-your-taste'}]}"
      ]
     },
     "execution_count": 43,
     "metadata": {},
     "output_type": "execute_result"
    }
   ],
   "source": [
    "# use make_dict() on an <object>\n",
    "# (pick first element, XPath returns node-sets)\n",
    "js2xml.jsonlike.make_dict(\n",
    "    jstree.xpath(r'''\n",
    "        //assign[left//property/identifier/@name=\"StoreLocator\"]\n",
    "            /right/*''')[0])"
   ]
  },
  {
   "cell_type": "markdown",
   "metadata": {
    "slideshow": {
     "slide_type": "slide"
    }
   },
   "source": [
    "### Yet another example with var assignment"
   ]
  },
  {
   "cell_type": "code",
   "execution_count": null,
   "metadata": {
    "collapsed": true,
    "slideshow": {
     "slide_type": "-"
    }
   },
   "outputs": [],
   "source": [
    "# from https://www.whoscored.com/Teams/32/\n",
    "# for https://stackoverflow.com/questions/25714030\n",
    "js = r'''\n",
    "        var defaultTeamPlayerStatsConfigParams = {\n",
    "            data:{\n",
    "                url: 'stage-player-stat'\n",
    "            },\n",
    "            defaultParams: {\n",
    "                stageId: 12496,\n",
    "                teamId: 32,\n",
    "                playerId: -1,\n",
    "                field: 2\n",
    "            },\n",
    "            fixZeros: true,\n",
    "            fitText: {\n",
    "                container: '.grid .team-link, .grid .player-link',\n",
    "                options: {\n",
    "                    width: 150\n",
    "                }\n",
    "            }\n",
    "        };\n",
    "\n",
    "'''"
   ]
  },
  {
   "cell_type": "code",
   "execution_count": null,
   "metadata": {
    "collapsed": true,
    "slideshow": {
     "slide_type": "slide"
    }
   },
   "outputs": [],
   "source": [
    "jstree = js2xml.parse(js)"
   ]
  },
  {
   "cell_type": "code",
   "execution_count": null,
   "metadata": {
    "collapsed": false,
    "slideshow": {
     "slide_type": "fragment"
    }
   },
   "outputs": [],
   "source": [
    "jstree.xpath('//var[@name=\"defaultTeamPlayerStatsConfigParams\"]')"
   ]
  },
  {
   "cell_type": "code",
   "execution_count": null,
   "metadata": {
    "collapsed": false,
    "slideshow": {
     "slide_type": "fragment"
    }
   },
   "outputs": [],
   "source": [
    "jstree.xpath('//var[@name=\"defaultTeamPlayerStatsConfigParams\"]/object')"
   ]
  },
  {
   "cell_type": "code",
   "execution_count": null,
   "metadata": {
    "collapsed": false,
    "slideshow": {
     "slide_type": "slide"
    }
   },
   "outputs": [],
   "source": [
    "obj = jstree.xpath('''\n",
    "    //var[@name=\"defaultTeamPlayerStatsConfigParams\"]\n",
    "        /object''')[0]\n",
    "\n",
    "js2xml.jsonlike.make_dict(obj)"
   ]
  },
  {
   "cell_type": "markdown",
   "metadata": {
    "slideshow": {
     "slide_type": "slide"
    }
   },
   "source": [
    "### Live fetch example (please, demo gods...)"
   ]
  },
  {
   "cell_type": "code",
   "execution_count": 44,
   "metadata": {
    "collapsed": true,
    "slideshow": {
     "slide_type": "-"
    }
   },
   "outputs": [],
   "source": [
    "# from https://stackoverflow.com/questions/26947901\n",
    "# http://www.carzone.ie/used-cars/page/1\n",
    "import requests\n",
    "r = requests.get('http://www.carzone.ie/used-cars/page/1')\n",
    "\n",
    "# the page has things like\n",
    "# <script id=\"data\" type=\"text/javascript\">\n",
    "#      window.jsonData={\"filters\":[{\"id\":\"keyword\",\"groups\":[\"keyword\",\"e\"],\"texts\":[\"eg. GTI, Sport, Sat Nav, Air bags\"],\"tagText\":\"Keywords"
   ]
  },
  {
   "cell_type": "code",
   "execution_count": 45,
   "metadata": {
    "collapsed": false,
    "slideshow": {
     "slide_type": "slide"
    }
   },
   "outputs": [],
   "source": [
    "import parsel\n",
    "selector = parsel.Selector(r.text, type=\"html\")"
   ]
  },
  {
   "cell_type": "code",
   "execution_count": 46,
   "metadata": {
    "collapsed": false,
    "slideshow": {
     "slide_type": "fragment"
    }
   },
   "outputs": [],
   "source": [
    "for script in selector.xpath('''\n",
    "        //script[@type=\"text/javascript\"]/text()''').extract():\n",
    "    jstree = js2xml.parse(script)\n",
    "    d = jstree.xpath(r'''\n",
    "        //assign[left/dotaccessor[object/identifier/@name=\"window\"]\n",
    "                                 [property/identifier/@name=\"jsonData\"]]\n",
    "            /right/*''')\n",
    "    if d:\n",
    "        data = js2xml.jsonlike.getall(d[0])\n",
    "        break"
   ]
  },
  {
   "cell_type": "code",
   "execution_count": 48,
   "metadata": {
    "collapsed": false,
    "slideshow": {
     "slide_type": "slide"
    }
   },
   "outputs": [
    {
     "data": {
      "text/plain": [
       "['tealiumProperties',\n",
       " 'omnitureProperties',\n",
       " 'breadcrumbs',\n",
       " 'filteringNeedsRedirect',\n",
       " 'results',\n",
       " 'heading',\n",
       " 'featuredDealer',\n",
       " 'bannerData',\n",
       " 'state',\n",
       " 'filters',\n",
       " 'moduleAdverts',\n",
       " 'panels',\n",
       " 'googleAdsData',\n",
       " 'expiredAd']"
      ]
     },
     "execution_count": 48,
     "metadata": {},
     "output_type": "execute_result"
    }
   ],
   "source": [
    "data[0].keys()"
   ]
  },
  {
   "cell_type": "code",
   "execution_count": 49,
   "metadata": {
    "collapsed": false,
    "slideshow": {
     "slide_type": "slide"
    }
   },
   "outputs": [
    {
     "name": "stdout",
     "output_type": "stream",
     "text": [
      "10\n"
     ]
    },
    {
     "data": {
      "text/plain": [
       "[{'advertiserId': '8aa13d21476839cb014781aa1db446e1',\n",
       "  'comparePanelUrl': 'http://www.carzone.ie/used-cars/aixam/mega-city/used-2007-aixam-mega-city-electri-cork-fpa-201614242525123?SOURCE_ID=SOURCE_ID_AD_IN_VEHICLE_COMPARE',\n",
       "  'engine': '0.5 Electric',\n",
       "  'features': 'CD Player, Electric Windows, Parking Sensors, Sports Suspension, Alloy Wheels',\n",
       "  'financeUrl': 'http://www.carzone.ie/partners/finance/201614242525123',\n",
       "  'id': '2c929b9a5438f4fb0154c8e44f85646f',\n",
       "  'imageCount': 9,\n",
       "  'insuranceUrl': 'http://www.carzone.ie/partners/insurance/201614242525123',\n",
       "  'location': 'Cork',\n",
       "  'mainImageUrl': 'http://pictures.autotrader.ie/imgser-ie/servlet/media?id=14787915&width=153&height=115&defaultImageUrl=http://www.carzone.ie/web/images/no-photo-small.gif',\n",
       "  'make': 'AIXAM',\n",
       "  'mileageKm': '11,600',\n",
       "  'mileageMile': '7,208',\n",
       "  'model': 'MEGA CITY',\n",
       "  'numericId': 201614242525123,\n",
       "  'pSL': True,\n",
       "  'price': [{'eur': '&euro;2,995'}],\n",
       "  'privateSeller': True,\n",
       "  'title': 'AIXAM MEGA CITY Electric',\n",
       "  'url': 'http://www.carzone.ie/used-cars/aixam/mega-city/used-2007-aixam-mega-city-electri-cork-fpa-201614242525123',\n",
       "  'year': '2007'},\n",
       " {'advertiserId': '8a60b91b2fc524df012fd9bd893c2327',\n",
       "  'comparePanelUrl': 'http://www.carzone.ie/used-cars/alfa-romeo/147/used-2010-alfa-romeo-147-1-9-jtd-dublin-fpa-161014319600603740?SOURCE_ID=SOURCE_ID_AD_IN_VEHICLE_COMPARE',\n",
       "  'dealerId': 3002069,\n",
       "  'dealerLogoUrl': 'http://images.carzone.ie/dealer-resource/programme/featured/3002069.jpg',\n",
       "  'dealerName': 'Sarsfield Motor Company S.C.R. Kilmainham',\n",
       "  'dealerSimi': True,\n",
       "  'engine': '1.9 Diesel',\n",
       "  'fN': 'sarsfieldauc',\n",
       "  'features': 'STUNNING ALFA 147 1.9 JTD..FULL FRANCHISE DEALER SERVICE HISTORY..DUAL ZONE CLIMATE CONTROL..AIR CON..UPGRADED ALLOY WHEEL..OPEN 7 DAYS A WEEK....FINANCE ARRANGED IN 1 HOUR...TRADE INS ACCEPTED...CONTACT OUR SALES TEAM FOR FURTHER INFO....WE ARE AN NCA AUTHORISED CREDIT INTERMEDIARY ON BEHALF OF FIRST AUTO FINANCE LTD AND BLUESTONE FINANCE 1 LTD AND AIB/BOI APPROVED DEALER.WE HAVE OVER 150 APPROVED USED VEHICLES IN STOCK.OPENING HOURS MON-FRI 9AM UNTIL 7PM.SAT 9 AM-5PM.SUNDAY 11 AM-4 PM.',\n",
       "  'id': '8ae192154cff07af014d677881e348a2',\n",
       "  'imageCount': 11,\n",
       "  'location': 'Dublin',\n",
       "  'mainImageUrl': 'http://pictures.autotrader.ie/imgser-ie/servlet/media?id=6ac5e769-d163-4484-a53b-fd2ffa15773e&width=153&height=115&defaultImageUrl=http://www.carzone.ie/web/images/no-photo-small.gif',\n",
       "  'make': 'ALFA ROMEO',\n",
       "  'mileageKm': '189,001',\n",
       "  'mileageMile': '117,440',\n",
       "  'model': '147',\n",
       "  'numericId': 161014319600603740,\n",
       "  'price': [{'eur': '&euro;5,950'}],\n",
       "  'sSL': '202',\n",
       "  'title': 'ALFA ROMEO 147 1.9 JTD TURISMO.FULL SERVICE HISTORY..MASSIVE SPEC..FINANCE ARRANGED IN 1 HOUR..',\n",
       "  'uacLogoUrl': 'http://images.carzone.ie/dealer-resource/programme/20x20/sarsfieldauc.gif',\n",
       "  'url': 'http://www.carzone.ie/used-cars/alfa-romeo/147/used-2010-alfa-romeo-147-1-9-jtd-dublin-fpa-161014319600603740',\n",
       "  'usedApproved': True,\n",
       "  'year': '2010'},\n",
       " {'advertiserId': '8a60b91b2fc524df012fc5fa5a12067e',\n",
       "  'comparePanelUrl': 'http://www.carzone.ie/used-cars/alfa-romeo/147/used-2009-alfa-romeo-147-12-month-dublin-fpa-200914414508934370?SOURCE_ID=SOURCE_ID_AD_IN_VEHICLE_COMPARE',\n",
       "  'dealerId': 3000292,\n",
       "  'dealerName': 'Ultimate Cars Ltd.',\n",
       "  'dealerSimi': True,\n",
       "  'engine': '1.9 Diesel',\n",
       "  'features': u'12 Months\\' Warranty - Timing Belt Replaced - Air Conditioning - Bluetooth Phone Kit - Road Tax \\u20ac390 - Multifunction Steering Wheel - 17\" Alloy Wheels - Nct 05/2017 - Clean Car - Located on Killeen Road Dublin 10 - Open Monday to Friday 9am to 6pm and Saturday 11am to 3pm - SIMI Members - Finance Available - 12 Months Warranty',\n",
       "  'id': '2c929a7a4f978879014f9d2b20803f6b',\n",
       "  'imageCount': 10,\n",
       "  'location': 'Dublin',\n",
       "  'mainImageUrl': 'http://pictures.autotrader.ie/imgser-ie/servlet/media?id=5e8fe0b2-67a8-469b-8baa-1d854e70e9ed&width=153&height=115&defaultImageUrl=http://www.carzone.ie/web/images/no-photo-small.gif',\n",
       "  'make': 'ALFA ROMEO',\n",
       "  'mileageKm': '128,609',\n",
       "  'mileageMile': '79,914',\n",
       "  'model': '147',\n",
       "  'numericId': 200914414508934370,\n",
       "  'price': [{'eur': '&euro;7,950'}],\n",
       "  'title': \"ALFA ROMEO 147 12 Months' Warranty Finance Available 1.9 TURISMO 120BHP\",\n",
       "  'url': 'http://www.carzone.ie/used-cars/alfa-romeo/147/used-2009-alfa-romeo-147-12-month-dublin-fpa-200914414508934370',\n",
       "  'year': '2009'},\n",
       " {'advertiserId': '8a60d6e02fc5242e012fdf56dd0a4fdb',\n",
       "  'comparePanelUrl': 'http://www.carzone.ie/used-cars/alfa-romeo/147/used-2008-alfa-romeo-147-1-6-coll-dublin-fpa-201314568272795340?SOURCE_ID=SOURCE_ID_AD_IN_VEHICLE_COMPARE',\n",
       "  'dealerId': 3000269,\n",
       "  'dealerName': 'Bill Griffin Motors',\n",
       "  'dealerSimi': True,\n",
       "  'engine': '1.6 Petrol',\n",
       "  'features': \"2008 ALFA ROMEO 147 1.6 COLLEZIONE II MODEL IN PRISTINE CONDITION THROUGHOUT COMES WITH ELECTRIC WINDOWS, DIGITAL CLIMATE CONTROL, FULL LEATHER INTERIOR, UPGRADED 17'' ALLOY WHEELS, FRONT FOGLIGHTS, HAS FULL MAIN DEALER SERVICE HISTORY, TIMING BELT AND WATER PUMP DONE AT 103K KMS, **We are NCA authorised credit intermediaires and AIB/BOI approved dealer . We have over 275 cars in stock over 3 levels in our Naas road showroom, Late opening hours and directions can be found on www. billgriffinmotors.ie. SIMI member 2016 * Award Winning - Irelands Most Cars Sold 2014 and 2015,#R570A#\",\n",
       "  'id': '2c929b9c532cbd5a015331ac28b50e08',\n",
       "  'imageCount': 20,\n",
       "  'location': 'Dublin',\n",
       "  'mainImageUrl': 'http://pictures.autotrader.ie/imgser-ie/servlet/media?id=c3edbfa4-6393-4ca3-ad3d-b25d0ba598d8&width=153&height=115&defaultImageUrl=http://www.carzone.ie/web/images/no-photo-small.gif',\n",
       "  'make': 'ALFA ROMEO',\n",
       "  'mileageKm': '135,315',\n",
       "  'mileageMile': '84,081',\n",
       "  'model': '147',\n",
       "  'numericId': 201314568272795340,\n",
       "  'price': [{'eur': '&euro;4,900'}],\n",
       "  'title': \"ALFA ROMEO 147 1.6 COLLEZIONE II  //  FULL LEATHER INTERIOR  //  UPGRADED 17'' ALLOY WHEELS  //  NCT TILL 02/18  //  FULL MAIN DEALER SERVICE HISTORY  //  CALL IN ANYTIME TO VIEW**\",\n",
       "  'url': 'http://www.carzone.ie/used-cars/alfa-romeo/147/used-2008-alfa-romeo-147-1-6-coll-dublin-fpa-201314568272795340',\n",
       "  'year': '2008'},\n",
       " {'advertiserId': '8a60b91b2fc524df012fdf5777d54fcc',\n",
       "  'comparePanelUrl': 'http://www.carzone.ie/used-cars/alfa-romeo/147/used-2007-alfa-romeo-147-price-dublin-fpa-201014622940198030?SOURCE_ID=SOURCE_ID_AD_IN_VEHICLE_COMPARE',\n",
       "  'dealerId': 3001818,\n",
       "  'dealerLogoUrl': 'http://images.carzone.ie/dealer-resource/programme/featured/3001818.jpg',\n",
       "  'dealerName': 'N4 Cars.ie',\n",
       "  'engine': '1.6 Petrol',\n",
       "  'features': u'(( PRICES SLASHED )) MASSIVE SPRING SALE NOW ON |UNBEATABLE PRICES | MASSIVE DISCOUNTS | EXCELLENT AFFORDABLE APPROVED QUALITY PRE-OWNED CARS | FULL DEALER FACILITIES | INDEPENDENT CARTELL MOTORCHECK HISTORY | ALL CARS NCT-TESTED,  FULLY SERVICED,  VALETED | 2-HOUR FINANCE AVAILABLE ON SELECTED MODELS| 300 USED CARS TO CHOOSE FROM |  www. N4CARS. ie | ALL CREDIT,  DEBIT CARDS ACCEPTED | TRADE-IN CARS ACCEPTED |OPEN 6-DAYS,  Mon-Fri 9am-6pm,  Sat 9am-5pm,  OUTSIDE HOURS By APPOINTMENT | OVER 40 YEARS EXPERIENCE IN THE SECOND-HAND AUTO INDUSTRY | NEW STOCK ARRIVING DAILY | VISIT WEBSITE  www. N4CARS. ie | EASY LOCATION,  just 400 meters along N4,  FROM Junction No-7  M50 / N4 in PALMERSTOWN | For More Info and Arrange a Test Drive CONTACT SALES on 01-4433339,   087-9303707,  086-0639800,  Anytime | BECAUSE WE VALUE YOUR BUSINESS \\u2026\\u2026.',\n",
       "  'id': '2c929b995438f27f01547783fede18fd',\n",
       "  'imageCount': 15,\n",
       "  'location': 'Dublin',\n",
       "  'mainImageUrl': 'http://pictures.autotrader.ie/imgser-ie/servlet/media?id=1059be2c-aa88-4fd8-b18a-c8e876402ec5&width=153&height=115&defaultImageUrl=http://www.carzone.ie/web/images/no-photo-small.gif',\n",
       "  'make': 'ALFA ROMEO',\n",
       "  'mileageKm': '77,709',\n",
       "  'mileageMile': '48,286',\n",
       "  'model': '147',\n",
       "  'numericId': 201014622940198030,\n",
       "  'onlineChatFpaUrl': 'http://www.carzone.ie/used-cars/alfa-romeo/147/used-2007-alfa-romeo-147-price-dublin-fpa-201014622940198030?SOURCE_ID=SOURCE_ID_ONLINE_CHAT',\n",
       "  'onlineChatImageUrl': 'http://autotrader.contactatonce.co.uk/getagentstatusimage.aspx?ProviderId=11499&MerchantId=3001818&PlacementId=5623',\n",
       "  'price': [{'eur': '&euro;3,949'}],\n",
       "  'sSL': '202',\n",
       "  'ssoImageUrls': ['http://pictures.autotrader.ie/imgser-ie/servlet/media?id=1059be2c-aa88-4fd8-b18a-c8e876402ec5&width=74&height=56&defaultImageUrl=http://www.carzone.ie',\n",
       "   'http://pictures.autotrader.ie/imgser-ie/servlet/media?id=cc7d058e-6f1f-42d1-a4e5-b994b6cc616c&width=74&height=56&defaultImageUrl=http://www.carzone.ie',\n",
       "   'http://pictures.autotrader.ie/imgser-ie/servlet/media?id=ddcbc35b-c66f-4cf3-856f-cd8559a41fd7&width=74&height=56&defaultImageUrl=http://www.carzone.ie',\n",
       "   'http://pictures.autotrader.ie/imgser-ie/servlet/media?id=f154e7a0-4e00-452a-a3fc-17a3b00a1a2c&width=74&height=56&defaultImageUrl=http://www.carzone.ie',\n",
       "   'http://pictures.autotrader.ie/imgser-ie/servlet/media?id=6ca44fcf-14ec-4990-bf44-206d74499432&width=74&height=56&defaultImageUrl=http://www.carzone.ie',\n",
       "   'http://pictures.autotrader.ie/imgser-ie/servlet/media?id=42e0aa00-5c94-495d-97be-e1bb2c62f780&width=74&height=56&defaultImageUrl=http://www.carzone.ie',\n",
       "   'http://pictures.autotrader.ie/imgser-ie/servlet/media?id=b02a2d96-7305-4084-8f16-ef6e8ed1d8d7&width=74&height=56&defaultImageUrl=http://www.carzone.ie'],\n",
       "  'title': 'ALFA ROMEO 147 (( PRICES SLASHED )) TOP-SPEC  SPORTIVO | NCT APR-18 | LOW MILES | EXCELLEN',\n",
       "  'url': 'http://www.carzone.ie/used-cars/alfa-romeo/147/used-2007-alfa-romeo-147-price-dublin-fpa-201014622940198030',\n",
       "  'year': '2007'},\n",
       " {'advertiserId': '2c929b995264a8270152998af11c4455',\n",
       "  'comparePanelUrl': 'http://www.carzone.ie/used-cars/alfa-romeo/147/used-2006-alfa-romeo-147-1-9-jtdm-carlow-fpa-201604240754355?SOURCE_ID=SOURCE_ID_AD_IN_VEHICLE_COMPARE',\n",
       "  'engine': '1.9 Diesel',\n",
       "  'features': 'ABS, Adjustable Steering Wheel, Air Conditioning, Alarm, Alloy Wheels, CD Player, Climate Control, Cruise Control, Driver Airbag, Electric Windows, Immobiliser, Leather Upholstery, Multiple Airbags, Parking Sensors, Rear Head Rests, Remote Central Locking, Sports Suspension, Traction Control',\n",
       "  'financeUrl': 'http://www.carzone.ie/partners/finance/201604240754355',\n",
       "  'id': '2c929b9c532cbd5a01534da03a3238d2',\n",
       "  'imageCount': 9,\n",
       "  'insuranceUrl': 'http://www.carzone.ie/partners/insurance/201604240754355',\n",
       "  'location': 'Carlow',\n",
       "  'mainImageUrl': 'http://pictures.autotrader.ie/imgser-ie/servlet/media?id=17760360&width=153&height=115&defaultImageUrl=http://www.carzone.ie/web/images/no-photo-small.gif',\n",
       "  'make': 'ALFA ROMEO',\n",
       "  'mileageKm': '199,559',\n",
       "  'mileageMile': '124,000',\n",
       "  'model': '147',\n",
       "  'numericId': 201604240754355,\n",
       "  'price': [{'eur': '&euro;3,700'}],\n",
       "  'privateSeller': True,\n",
       "  'title': 'ALFA ROMEO 147 1.9 JTDM 16V LUSSO (150) 5DR',\n",
       "  'url': 'http://www.carzone.ie/used-cars/alfa-romeo/147/used-2006-alfa-romeo-147-1-9-jtdm-carlow-fpa-201604240754355',\n",
       "  'year': '2006'},\n",
       " {'advertiserId': '8aa121ba47684bd0014781a842fb3c42',\n",
       "  'comparePanelUrl': 'http://www.carzone.ie/used-cars/alfa-romeo/147/used-2006-alfa-romeo-147-1-6-base-dublin-fpa-201614242561939?SOURCE_ID=SOURCE_ID_AD_IN_VEHICLE_COMPARE',\n",
       "  'engine': '1.6 Petrol',\n",
       "  'features': 'ABS, Air Conditioning, Alarm, Alloy Wheels, Driver Airbag, Electric Windows, Immobiliser, Multiple Airbags, Remote Central Locking, Sports Suspension',\n",
       "  'financeUrl': 'http://www.carzone.ie/partners/finance/201614242561939',\n",
       "  'id': '2c929a7b540a7c3701540f5553471915',\n",
       "  'imageCount': 9,\n",
       "  'insuranceUrl': 'http://www.carzone.ie/partners/insurance/201614242561939',\n",
       "  'location': 'Dublin',\n",
       "  'mainImageUrl': 'http://pictures.autotrader.ie/imgser-ie/servlet/media?id=17887115&width=153&height=115&defaultImageUrl=http://www.carzone.ie/web/images/no-photo-small.gif',\n",
       "  'make': 'ALFA ROMEO',\n",
       "  'mileageKm': '136,794',\n",
       "  'mileageMile': '85,000',\n",
       "  'model': '147',\n",
       "  'numericId': 201614242561939,\n",
       "  'price': [{'eur': '&euro;3,000'}],\n",
       "  'privateSeller': True,\n",
       "  'title': 'ALFA ROMEO 147 1.6 BASE SPORT 5DR',\n",
       "  'url': 'http://www.carzone.ie/used-cars/alfa-romeo/147/used-2006-alfa-romeo-147-1-6-base-dublin-fpa-201614242561939',\n",
       "  'year': '2006'},\n",
       " {'advertiserId': '8aa141e547ce8be30147ed5ae42c5406',\n",
       "  'comparePanelUrl': 'http://www.carzone.ie/used-cars/alfa-romeo/147/used-2006-alfa-romeo-147-1-6-luss-cork-fpa-201214574439769900?SOURCE_ID=SOURCE_ID_AD_IN_VEHICLE_COMPARE',\n",
       "  'dealerId': 3003725,\n",
       "  'dealerName': 'Used Cars Direct.ie',\n",
       "  'engine': '1.6 Petrol',\n",
       "  'features': 'Warranty, Passenger airbag, Isofix child seat anchor points, Height adjustable drivers seat, Front electric windows, Foglights, Electric sunroof, Cruise control, Drivers airbag, Computer, Cloth upholstery, Child locks, Central locking, CD, Body coloured bumpers, Alloy wheels, Alarm remote controlled, Air conditioning, Adjustable steering column/wheel, ABS, 16\" light alloy wheels',\n",
       "  'id': '2c929b9b532cbcd00153566e37220652',\n",
       "  'imageCount': 7,\n",
       "  'location': 'Cork',\n",
       "  'mainImageUrl': 'http://pictures.autotrader.ie/imgser-ie/servlet/media?id=15186aa7-985a-466b-b4e2-80d740d5f18e&width=153&height=115&defaultImageUrl=http://www.carzone.ie/web/images/no-photo-small.gif',\n",
       "  'make': 'ALFA ROMEO',\n",
       "  'mileageKm': '341,000',\n",
       "  'mileageMile': '211,888',\n",
       "  'model': '147',\n",
       "  'numericId': 201214574439769900,\n",
       "  'price': [{'eur': '&euro;2,750'}],\n",
       "  'title': 'ALFA ROMEO 147 1.6 LUSSO 3DR',\n",
       "  'url': 'http://www.carzone.ie/used-cars/alfa-romeo/147/used-2006-alfa-romeo-147-1-6-luss-cork-fpa-201214574439769900',\n",
       "  'year': '2006'},\n",
       " {'advertiserId': '8aa142024767a4d101478189946b351d',\n",
       "  'comparePanelUrl': 'http://www.carzone.ie/used-cars/alfa-romeo/147/used-2004-alfa-romeo-147-1-6-dublin-fpa-201619243581379?SOURCE_ID=SOURCE_ID_AD_IN_VEHICLE_COMPARE',\n",
       "  'engine': '1.6 Petrol',\n",
       "  'features': 'ABS, Adjustable Steering Wheel, CD Player, Driver Airbag, Electric Windows, Rear Head Rests',\n",
       "  'financeUrl': 'http://www.carzone.ie/partners/finance/201619243581379',\n",
       "  'id': '2c929b995438f27f0154a4c93ada3d8a',\n",
       "  'imageCount': 9,\n",
       "  'insuranceUrl': 'http://www.carzone.ie/partners/insurance/201619243581379',\n",
       "  'location': 'Dublin',\n",
       "  'mainImageUrl': 'http://pictures.autotrader.ie/imgser-ie/servlet/media?id=17990430&width=153&height=115&defaultImageUrl=http://www.carzone.ie/web/images/no-photo-small.gif',\n",
       "  'make': 'ALFA ROMEO',\n",
       "  'mileageKm': '119,091',\n",
       "  'mileageMile': '74,000',\n",
       "  'model': '147',\n",
       "  'numericId': 201619243581379,\n",
       "  'pSL': True,\n",
       "  'price': [{'eur': '&euro;1,300'}],\n",
       "  'privateSeller': True,\n",
       "  'title': 'ALFA ROMEO 147 1.6',\n",
       "  'url': 'http://www.carzone.ie/used-cars/alfa-romeo/147/used-2004-alfa-romeo-147-1-6-dublin-fpa-201619243581379',\n",
       "  'year': '2004'},\n",
       " {'advertiserId': '4028fda64e97583c014e97a5234a0dd2',\n",
       "  'comparePanelUrl': 'http://www.carzone.ie/used-cars/alfa-romeo/147/used-2003-alfa-romeo-147-1-6-t-sp-dublin-fpa-201617243182668?SOURCE_ID=SOURCE_ID_AD_IN_VEHICLE_COMPARE',\n",
       "  'engine': '1.6 Petrol',\n",
       "  'features': 'ABS, Adjustable Steering Wheel, Air Conditioning, Alarm, Alloy Wheels, CD Player, Climate Control, Cruise Control, Driver Airbag, Electric Windows, Immobiliser, Leather Upholstery, Multiple Airbags, Radio Remote Control, Rear Head Rests, Remote Central Locking, Traction Control',\n",
       "  'financeUrl': 'http://www.carzone.ie/partners/finance/201617243182668',\n",
       "  'id': '2c929b9a5438f4fb0154b970cc780d40',\n",
       "  'imageCount': 6,\n",
       "  'insuranceUrl': 'http://www.carzone.ie/partners/insurance/201617243182668',\n",
       "  'location': 'Dublin',\n",
       "  'mainImageUrl': 'http://pictures.autotrader.ie/imgser-ie/servlet/media?id=17996850&width=153&height=115&defaultImageUrl=http://www.carzone.ie/web/images/no-photo-small.gif',\n",
       "  'make': 'ALFA ROMEO',\n",
       "  'mileageKm': '157,587',\n",
       "  'mileageMile': '97,920',\n",
       "  'model': '147',\n",
       "  'numericId': 201617243182668,\n",
       "  'pSL': True,\n",
       "  'price': [{'eur': '&euro;2,200'}],\n",
       "  'privateSeller': True,\n",
       "  'title': 'ALFA ROMEO 147 1.6 T SPARK LUSSO 5DR',\n",
       "  'url': 'http://www.carzone.ie/used-cars/alfa-romeo/147/used-2003-alfa-romeo-147-1-6-t-sp-dublin-fpa-201617243182668',\n",
       "  'year': '2003'}]"
      ]
     },
     "execution_count": 49,
     "metadata": {},
     "output_type": "execute_result"
    }
   ],
   "source": [
    "print(len(data[0]['results']))\n",
    "data[0]['results']"
   ]
  },
  {
   "cell_type": "markdown",
   "metadata": {
    "slideshow": {
     "slide_type": "slide"
    }
   },
   "source": [
    "# Using js2xml\n",
    "\n",
    "* get it on PyPI: `pip install js2xml`\n",
    "* source code on https://github.com/redapple/js2xml\n",
    "* based on [`slimit`](https://github.com/rspivak/slimit) (JavaScript minifier written in Python)\n",
    "* has some parsing issues sometimes\n",
    "* not fast (e.g. Instagram pages)\n",
    "* does not work on Python 3 (not-tested)"
   ]
  },
  {
   "cell_type": "markdown",
   "metadata": {
    "slideshow": {
     "slide_type": "slide"
    }
   },
   "source": [
    "# Future\n",
    "\n",
    "* replace `slimit` with a more robust and faster JavaScript parser? (e.g. [pyjsparser](https://github.com/PiotrDabkowski/pyjsparser))\n",
    "* pyjsparser outputs [ESTree](https://github.com/estree/estree) trees (~ SpiderMonkey API), may obsolete js2xml altogether\n",
    "* or port [acorn.js](https://github.com/ternjs/acorn) to Python (a bit like what [js-beautifier](https://github.com/beautify-web/js-beautify) did)\n",
    "* [Js2Py](https://github.com/PiotrDabkowski/Js2Py) is a Pure Python JavaScript Translator/Interpreter, and looks pretty cool!"
   ]
  },
  {
   "cell_type": "markdown",
   "metadata": {
    "slideshow": {
     "slide_type": "slide"
    }
   },
   "source": [
    "# Questions?\n",
    "\n",
    "Note: this talk was done with a Jupyter Notebook + RISE extension"
   ]
  }
 ],
 "metadata": {
  "celltoolbar": "Slideshow",
  "kernelspec": {
   "display_name": "Python 2",
   "language": "python",
   "name": "python2"
  },
  "language_info": {
   "codemirror_mode": {
    "name": "ipython",
    "version": 2
   },
   "file_extension": ".py",
   "mimetype": "text/x-python",
   "name": "python",
   "nbconvert_exporter": "python",
   "pygments_lexer": "ipython2",
   "version": "2.7.11+"
  }
 },
 "nbformat": 4,
 "nbformat_minor": 0
}
